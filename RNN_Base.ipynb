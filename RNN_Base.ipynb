{
 "cells": [
  {
   "cell_type": "code",
   "execution_count": 1,
   "metadata": {},
   "outputs": [],
   "source": [
    "from preprocess.preprocess import load_dataset, compute_label_agg, select_data, get_data_loaders\n",
    "\n",
    "import torch\n",
    "import torch.nn as nn\n",
    "import torch.optim as optim\n",
    "\n",
    "from models.RNN import RNN\n",
    "from utils.RNN_utils import *"
   ]
  },
  {
   "cell_type": "code",
   "execution_count": 2,
   "metadata": {},
   "outputs": [
    {
     "name": "stdout",
     "output_type": "stream",
     "text": [
      "CUDA is available: True\n"
     ]
    }
   ],
   "source": [
    "# Define device for torch\n",
    "use_cuda = True\n",
    "device = torch.device(\"cuda\" if (\n",
    "    use_cuda and torch.cuda.is_available()) else \"cpu\")\n",
    "print(device)"
   ]
  },
  {
   "attachments": {},
   "cell_type": "markdown",
   "metadata": {},
   "source": [
    "# Define options\n"
   ]
  },
  {
   "cell_type": "code",
   "execution_count": 3,
   "metadata": {},
   "outputs": [],
   "source": [
    "LOAD_DATASET = False\n",
    "TRAIN_PATH = './PTB_train.pt'\n",
    "VALID_PATH = './PTB_valid.pt'\n",
    "TEST_PATH = './PTB_test.pt'\n",
    "SAVE_NAME = 'RNN_epoch_30'\n",
    "SAVE_DIR = './model_saves/'\n",
    "BATCH_SIZE = 256"
   ]
  },
  {
   "attachments": {},
   "cell_type": "markdown",
   "metadata": {},
   "source": [
    "# Loading the dataset\n"
   ]
  },
  {
   "cell_type": "code",
   "execution_count": 4,
   "metadata": {},
   "outputs": [],
   "source": [
    "if LOAD_DATASET:\n",
    "    train_loader = torch.load(TRAIN_PATH)\n",
    "    valid_loader = torch.load(VALID_PATH)\n",
    "    test_loader = torch.load(TEST_PATH)\n",
    "else:\n",
    "    path = './data/ptb-xl-a-large-publicly-available-electrocardiography-dataset-1.0.3/'\n",
    "\n",
    "    data, raw_labels = load_dataset(path)\n",
    "\n",
    "    labels = compute_label_agg(raw_labels, path)\n",
    "\n",
    "    data, labels, y = select_data(data, labels)\n",
    "\n",
    "    train_loader, valid_loader, test_loader = get_data_loaders(\n",
    "        data, labels, y, BATCH_SIZE)\n",
    "\n",
    "    torch.save(train_loader, TRAIN_PATH)\n",
    "    torch.save(valid_loader, VALID_PATH)\n",
    "    torch.save(test_loader, TEST_PATH)\n"
   ]
  },
  {
   "attachments": {},
   "cell_type": "markdown",
   "metadata": {},
   "source": [
    "# Training the model\n"
   ]
  },
  {
   "cell_type": "code",
   "execution_count": 6,
   "metadata": {},
   "outputs": [
    {
     "data": {
      "application/vnd.jupyter.widget-view+json": {
       "model_id": "90dd5cc50a4c40518e43f4ccb15e3c4e",
       "version_major": 2,
       "version_minor": 0
      },
      "text/plain": [
       "  0%|          | 0/67 [00:00<?, ?it/s]"
      ]
     },
     "metadata": {},
     "output_type": "display_data"
    },
    {
     "name": "stdout",
     "output_type": "stream",
     "text": [
      "Epoch: [1/30], Step [4352/512520] | Train Loss:  0.556         | Train Accuracy:  0.482         | Val Loss:  0.547         | Val Accuracy:  0.445\n",
      "Model saved to ==> ./model_saves/model_RNN_epoch_30.pt\n",
      "Epoch: [1/30], Step [8704/512520] | Train Loss:  0.552         | Train Accuracy:  0.462         | Val Loss:  0.546         | Val Accuracy:  0.445\n",
      "Model saved to ==> ./model_saves/model_RNN_epoch_30.pt\n",
      "Epoch: [1/30], Step [13056/512520] | Train Loss:  0.551         | Train Accuracy:  0.455         | Val Loss:  0.547         | Val Accuracy:  0.445\n",
      "Epoch: [1/30], Step [17084/512520] | Train Loss:  0.553         | Train Accuracy:  0.436         | Val Loss:  0.557         | Val Accuracy:  0.252\n"
     ]
    },
    {
     "data": {
      "application/vnd.jupyter.widget-view+json": {
       "model_id": "3702b6b6ab9445c99c88d128e241c3d1",
       "version_major": 2,
       "version_minor": 0
      },
      "text/plain": [
       "  0%|          | 0/67 [00:00<?, ?it/s]"
      ]
     },
     "metadata": {},
     "output_type": "display_data"
    },
    {
     "name": "stdout",
     "output_type": "stream",
     "text": [
      "Epoch: [2/30], Step [21436/512520] | Train Loss:  0.536         | Train Accuracy:  0.467         | Val Loss:  0.550         | Val Accuracy:  0.445\n",
      "Epoch: [2/30], Step [25788/512520] | Train Loss:  0.544         | Train Accuracy:  0.454         | Val Loss:  0.548         | Val Accuracy:  0.445\n",
      "Epoch: [2/30], Step [30140/512520] | Train Loss:  0.545         | Train Accuracy:  0.450         | Val Loss:  0.547         | Val Accuracy:  0.445\n",
      "Epoch: [2/30], Step [34168/512520] | Train Loss:  0.549         | Train Accuracy:  0.433         | Val Loss:  0.555         | Val Accuracy:  0.445\n"
     ]
    },
    {
     "data": {
      "application/vnd.jupyter.widget-view+json": {
       "model_id": "e6ed24961a744895a97aace0627e6a54",
       "version_major": 2,
       "version_minor": 0
      },
      "text/plain": [
       "  0%|          | 0/67 [00:00<?, ?it/s]"
      ]
     },
     "metadata": {},
     "output_type": "display_data"
    },
    {
     "name": "stdout",
     "output_type": "stream",
     "text": [
      "Epoch: [3/30], Step [38520/512520] | Train Loss:  0.534         | Train Accuracy:  0.512         | Val Loss:  0.558         | Val Accuracy:  0.445\n",
      "Epoch: [3/30], Step [42872/512520] | Train Loss:  0.542         | Train Accuracy:  0.477         | Val Loss:  0.549         | Val Accuracy:  0.445\n",
      "Epoch: [3/30], Step [47224/512520] | Train Loss:  0.544         | Train Accuracy:  0.465         | Val Loss:  0.546         | Val Accuracy:  0.445\n",
      "Model saved to ==> ./model_saves/model_RNN_epoch_30.pt\n",
      "Epoch: [3/30], Step [51252/512520] | Train Loss:  0.548         | Train Accuracy:  0.445         | Val Loss:  0.551         | Val Accuracy:  0.445\n"
     ]
    },
    {
     "data": {
      "application/vnd.jupyter.widget-view+json": {
       "model_id": "b6924df28d6145bc9a6f2c255d14836e",
       "version_major": 2,
       "version_minor": 0
      },
      "text/plain": [
       "  0%|          | 0/67 [00:00<?, ?it/s]"
      ]
     },
     "metadata": {},
     "output_type": "display_data"
    },
    {
     "name": "stdout",
     "output_type": "stream",
     "text": [
      "Epoch: [4/30], Step [55604/512520] | Train Loss:  0.534         | Train Accuracy:  0.512         | Val Loss:  0.552         | Val Accuracy:  0.445\n",
      "Epoch: [4/30], Step [59956/512520] | Train Loss:  0.542         | Train Accuracy:  0.477         | Val Loss:  0.546         | Val Accuracy:  0.445\n",
      "Epoch: [4/30], Step [64308/512520] | Train Loss:  0.544         | Train Accuracy:  0.465         | Val Loss:  0.546         | Val Accuracy:  0.445\n",
      "Epoch: [4/30], Step [68336/512520] | Train Loss:  0.548         | Train Accuracy:  0.445         | Val Loss:  0.550         | Val Accuracy:  0.445\n"
     ]
    },
    {
     "data": {
      "application/vnd.jupyter.widget-view+json": {
       "model_id": "03881754fee64d2bbc32cf0dced3b417",
       "version_major": 2,
       "version_minor": 0
      },
      "text/plain": [
       "  0%|          | 0/67 [00:00<?, ?it/s]"
      ]
     },
     "metadata": {},
     "output_type": "display_data"
    },
    {
     "name": "stdout",
     "output_type": "stream",
     "text": [
      "Epoch: [5/30], Step [72688/512520] | Train Loss:  0.533         | Train Accuracy:  0.512         | Val Loss:  0.548         | Val Accuracy:  0.445\n",
      "Epoch: [5/30], Step [77040/512520] | Train Loss:  0.541         | Train Accuracy:  0.477         | Val Loss:  0.545         | Val Accuracy:  0.445\n",
      "Model saved to ==> ./model_saves/model_RNN_epoch_30.pt\n",
      "Epoch: [5/30], Step [81392/512520] | Train Loss:  0.543         | Train Accuracy:  0.465         | Val Loss:  0.545         | Val Accuracy:  0.445\n",
      "Model saved to ==> ./model_saves/model_RNN_epoch_30.pt\n",
      "Epoch: [5/30], Step [85420/512520] | Train Loss:  0.548         | Train Accuracy:  0.445         | Val Loss:  0.548         | Val Accuracy:  0.445\n"
     ]
    },
    {
     "data": {
      "application/vnd.jupyter.widget-view+json": {
       "model_id": "cb4abdcbb71644a1961ef4e60f3e1a1b",
       "version_major": 2,
       "version_minor": 0
      },
      "text/plain": [
       "  0%|          | 0/67 [00:00<?, ?it/s]"
      ]
     },
     "metadata": {},
     "output_type": "display_data"
    },
    {
     "name": "stdout",
     "output_type": "stream",
     "text": [
      "Epoch: [6/30], Step [89772/512520] | Train Loss:  0.529         | Train Accuracy:  0.511         | Val Loss:  0.553         | Val Accuracy:  0.436\n",
      "Epoch: [6/30], Step [94124/512520] | Train Loss:  0.538         | Train Accuracy:  0.477         | Val Loss:  0.547         | Val Accuracy:  0.445\n",
      "Epoch: [6/30], Step [98476/512520] | Train Loss:  0.541         | Train Accuracy:  0.463         | Val Loss:  0.546         | Val Accuracy:  0.445\n",
      "Epoch: [6/30], Step [102504/512520] | Train Loss:  0.546         | Train Accuracy:  0.443         | Val Loss:  0.548         | Val Accuracy:  0.437\n"
     ]
    },
    {
     "data": {
      "application/vnd.jupyter.widget-view+json": {
       "model_id": "d6f79d1f6eb14d1fa44e90e5379b48af",
       "version_major": 2,
       "version_minor": 0
      },
      "text/plain": [
       "  0%|          | 0/67 [00:00<?, ?it/s]"
      ]
     },
     "metadata": {},
     "output_type": "display_data"
    },
    {
     "name": "stdout",
     "output_type": "stream",
     "text": [
      "Epoch: [7/30], Step [106856/512520] | Train Loss:  0.530         | Train Accuracy:  0.509         | Val Loss:  0.547         | Val Accuracy:  0.445\n",
      "Epoch: [7/30], Step [111208/512520] | Train Loss:  0.539         | Train Accuracy:  0.475         | Val Loss:  0.546         | Val Accuracy:  0.445\n",
      "Epoch: [7/30], Step [115560/512520] | Train Loss:  0.541         | Train Accuracy:  0.463         | Val Loss:  0.546         | Val Accuracy:  0.438\n",
      "Epoch: [7/30], Step [119588/512520] | Train Loss:  0.545         | Train Accuracy:  0.446         | Val Loss:  0.548         | Val Accuracy:  0.438\n"
     ]
    },
    {
     "data": {
      "application/vnd.jupyter.widget-view+json": {
       "model_id": "8ab3790e28434a17a6e23990616bb7f2",
       "version_major": 2,
       "version_minor": 0
      },
      "text/plain": [
       "  0%|          | 0/67 [00:00<?, ?it/s]"
      ]
     },
     "metadata": {},
     "output_type": "display_data"
    },
    {
     "name": "stdout",
     "output_type": "stream",
     "text": [
      "Epoch: [8/30], Step [123940/512520] | Train Loss:  0.530         | Train Accuracy:  0.510         | Val Loss:  0.547         | Val Accuracy:  0.445\n",
      "Epoch: [8/30], Step [128292/512520] | Train Loss:  0.538         | Train Accuracy:  0.477         | Val Loss:  0.546         | Val Accuracy:  0.439\n",
      "Epoch: [8/30], Step [132644/512520] | Train Loss:  0.540         | Train Accuracy:  0.466         | Val Loss:  0.545         | Val Accuracy:  0.440\n",
      "Model saved to ==> ./model_saves/model_RNN_epoch_30.pt\n",
      "Epoch: [8/30], Step [136672/512520] | Train Loss:  0.544         | Train Accuracy:  0.449         | Val Loss:  0.548         | Val Accuracy:  0.443\n"
     ]
    },
    {
     "data": {
      "application/vnd.jupyter.widget-view+json": {
       "model_id": "15e6f66b3498469296a750adb98cb5c1",
       "version_major": 2,
       "version_minor": 0
      },
      "text/plain": [
       "  0%|          | 0/67 [00:00<?, ?it/s]"
      ]
     },
     "metadata": {},
     "output_type": "display_data"
    },
    {
     "name": "stdout",
     "output_type": "stream",
     "text": [
      "Epoch: [9/30], Step [141024/512520] | Train Loss:  0.529         | Train Accuracy:  0.510         | Val Loss:  0.546         | Val Accuracy:  0.447\n",
      "Epoch: [9/30], Step [145376/512520] | Train Loss:  0.537         | Train Accuracy:  0.479         | Val Loss:  0.544         | Val Accuracy:  0.445\n",
      "Model saved to ==> ./model_saves/model_RNN_epoch_30.pt\n",
      "Epoch: [9/30], Step [149728/512520] | Train Loss:  0.539         | Train Accuracy:  0.467         | Val Loss:  0.543         | Val Accuracy:  0.447\n",
      "Model saved to ==> ./model_saves/model_RNN_epoch_30.pt\n",
      "Epoch: [9/30], Step [153756/512520] | Train Loss:  0.544         | Train Accuracy:  0.450         | Val Loss:  0.546         | Val Accuracy:  0.445\n"
     ]
    },
    {
     "data": {
      "application/vnd.jupyter.widget-view+json": {
       "model_id": "749cb04ab5bf4b0dbe22371b9df8de31",
       "version_major": 2,
       "version_minor": 0
      },
      "text/plain": [
       "  0%|          | 0/67 [00:00<?, ?it/s]"
      ]
     },
     "metadata": {},
     "output_type": "display_data"
    },
    {
     "name": "stdout",
     "output_type": "stream",
     "text": [
      "Epoch: [10/30], Step [158108/512520] | Train Loss:  0.529         | Train Accuracy:  0.514         | Val Loss:  0.544         | Val Accuracy:  0.457\n",
      "Epoch: [10/30], Step [162460/512520] | Train Loss:  0.536         | Train Accuracy:  0.484         | Val Loss:  0.544         | Val Accuracy:  0.448\n",
      "Epoch: [10/30], Step [166812/512520] | Train Loss:  0.539         | Train Accuracy:  0.471         | Val Loss:  0.543         | Val Accuracy:  0.448\n",
      "Model saved to ==> ./model_saves/model_RNN_epoch_30.pt\n",
      "Epoch: [10/30], Step [170840/512520] | Train Loss:  0.543         | Train Accuracy:  0.453         | Val Loss:  0.547         | Val Accuracy:  0.448\n"
     ]
    },
    {
     "data": {
      "application/vnd.jupyter.widget-view+json": {
       "model_id": "492a79142c9c4e4eb7cec3d1296afd23",
       "version_major": 2,
       "version_minor": 0
      },
      "text/plain": [
       "  0%|          | 0/67 [00:00<?, ?it/s]"
      ]
     },
     "metadata": {},
     "output_type": "display_data"
    },
    {
     "name": "stdout",
     "output_type": "stream",
     "text": [
      "Epoch: [11/30], Step [175192/512520] | Train Loss:  0.529         | Train Accuracy:  0.511         | Val Loss:  0.544         | Val Accuracy:  0.447\n",
      "Epoch: [11/30], Step [179544/512520] | Train Loss:  0.535         | Train Accuracy:  0.479         | Val Loss:  0.541         | Val Accuracy:  0.448\n",
      "Model saved to ==> ./model_saves/model_RNN_epoch_30.pt\n",
      "Epoch: [11/30], Step [183896/512520] | Train Loss:  0.535         | Train Accuracy:  0.469         | Val Loss:  0.530         | Val Accuracy:  0.461\n",
      "Model saved to ==> ./model_saves/model_RNN_epoch_30.pt\n",
      "Epoch: [11/30], Step [187924/512520] | Train Loss:  0.535         | Train Accuracy:  0.457         | Val Loss:  0.521         | Val Accuracy:  0.499\n",
      "Model saved to ==> ./model_saves/model_RNN_epoch_30.pt\n"
     ]
    },
    {
     "data": {
      "application/vnd.jupyter.widget-view+json": {
       "model_id": "313ffb737c754b969990b458eb4e31ea",
       "version_major": 2,
       "version_minor": 0
      },
      "text/plain": [
       "  0%|          | 0/67 [00:00<?, ?it/s]"
      ]
     },
     "metadata": {},
     "output_type": "display_data"
    },
    {
     "name": "stdout",
     "output_type": "stream",
     "text": [
      "Epoch: [12/30], Step [192276/512520] | Train Loss:  0.505         | Train Accuracy:  0.538         | Val Loss:  0.516         | Val Accuracy:  0.502\n",
      "Model saved to ==> ./model_saves/model_RNN_epoch_30.pt\n",
      "Epoch: [12/30], Step [196628/512520] | Train Loss:  0.510         | Train Accuracy:  0.519         | Val Loss:  0.511         | Val Accuracy:  0.501\n",
      "Model saved to ==> ./model_saves/model_RNN_epoch_30.pt\n",
      "Epoch: [12/30], Step [200980/512520] | Train Loss:  0.512         | Train Accuracy:  0.512         | Val Loss:  0.511         | Val Accuracy:  0.498\n",
      "Model saved to ==> ./model_saves/model_RNN_epoch_30.pt\n",
      "Epoch: [12/30], Step [205008/512520] | Train Loss:  0.514         | Train Accuracy:  0.506         | Val Loss:  0.500         | Val Accuracy:  0.519\n",
      "Model saved to ==> ./model_saves/model_RNN_epoch_30.pt\n"
     ]
    },
    {
     "data": {
      "application/vnd.jupyter.widget-view+json": {
       "model_id": "3b8091c6cb0144bd945239b2965a14ab",
       "version_major": 2,
       "version_minor": 0
      },
      "text/plain": [
       "  0%|          | 0/67 [00:00<?, ?it/s]"
      ]
     },
     "metadata": {},
     "output_type": "display_data"
    },
    {
     "name": "stdout",
     "output_type": "stream",
     "text": [
      "Epoch: [13/30], Step [209360/512520] | Train Loss:  0.482         | Train Accuracy:  0.563         | Val Loss:  0.494         | Val Accuracy:  0.526\n",
      "Model saved to ==> ./model_saves/model_RNN_epoch_30.pt\n",
      "Epoch: [13/30], Step [213712/512520] | Train Loss:  0.488         | Train Accuracy:  0.543         | Val Loss:  0.485         | Val Accuracy:  0.536\n",
      "Model saved to ==> ./model_saves/model_RNN_epoch_30.pt\n",
      "Epoch: [13/30], Step [218064/512520] | Train Loss:  0.487         | Train Accuracy:  0.544         | Val Loss:  0.480         | Val Accuracy:  0.547\n",
      "Model saved to ==> ./model_saves/model_RNN_epoch_30.pt\n",
      "Epoch: [13/30], Step [222092/512520] | Train Loss:  0.488         | Train Accuracy:  0.546         | Val Loss:  0.481         | Val Accuracy:  0.548\n"
     ]
    },
    {
     "data": {
      "application/vnd.jupyter.widget-view+json": {
       "model_id": "9364ed1f584b4d0fa47af9116b9f92be",
       "version_major": 2,
       "version_minor": 0
      },
      "text/plain": [
       "  0%|          | 0/67 [00:00<?, ?it/s]"
      ]
     },
     "metadata": {},
     "output_type": "display_data"
    },
    {
     "name": "stdout",
     "output_type": "stream",
     "text": [
      "Epoch: [14/30], Step [226444/512520] | Train Loss:  0.444         | Train Accuracy:  0.607         | Val Loss:  0.458         | Val Accuracy:  0.589\n",
      "Model saved to ==> ./model_saves/model_RNN_epoch_30.pt\n",
      "Epoch: [14/30], Step [230796/512520] | Train Loss:  0.453         | Train Accuracy:  0.596         | Val Loss:  0.453         | Val Accuracy:  0.597\n",
      "Model saved to ==> ./model_saves/model_RNN_epoch_30.pt\n",
      "Epoch: [14/30], Step [235148/512520] | Train Loss:  0.444         | Train Accuracy:  0.612         | Val Loss:  0.425         | Val Accuracy:  0.646\n",
      "Model saved to ==> ./model_saves/model_RNN_epoch_30.pt\n",
      "Epoch: [14/30], Step [239176/512520] | Train Loss:  0.443         | Train Accuracy:  0.617         | Val Loss:  0.425         | Val Accuracy:  0.632\n",
      "Model saved to ==> ./model_saves/model_RNN_epoch_30.pt\n"
     ]
    },
    {
     "data": {
      "application/vnd.jupyter.widget-view+json": {
       "model_id": "473f390c49e44eec80b8191a22aa473a",
       "version_major": 2,
       "version_minor": 0
      },
      "text/plain": [
       "  0%|          | 0/67 [00:00<?, ?it/s]"
      ]
     },
     "metadata": {},
     "output_type": "display_data"
    },
    {
     "name": "stdout",
     "output_type": "stream",
     "text": [
      "Epoch: [15/30], Step [243528/512520] | Train Loss:  0.399         | Train Accuracy:  0.683         | Val Loss:  0.412         | Val Accuracy:  0.674\n",
      "Model saved to ==> ./model_saves/model_RNN_epoch_30.pt\n",
      "Epoch: [15/30], Step [247880/512520] | Train Loss:  0.409         | Train Accuracy:  0.673         | Val Loss:  0.420         | Val Accuracy:  0.670\n",
      "Epoch: [15/30], Step [252232/512520] | Train Loss:  0.405         | Train Accuracy:  0.678         | Val Loss:  0.404         | Val Accuracy:  0.684\n",
      "Model saved to ==> ./model_saves/model_RNN_epoch_30.pt\n",
      "Epoch: [15/30], Step [256260/512520] | Train Loss:  0.404         | Train Accuracy:  0.683         | Val Loss:  0.388         | Val Accuracy:  0.712\n",
      "Model saved to ==> ./model_saves/model_RNN_epoch_30.pt\n"
     ]
    },
    {
     "data": {
      "application/vnd.jupyter.widget-view+json": {
       "model_id": "014503c7a8024ce9928cb4b9829f5479",
       "version_major": 2,
       "version_minor": 0
      },
      "text/plain": [
       "  0%|          | 0/67 [00:00<?, ?it/s]"
      ]
     },
     "metadata": {},
     "output_type": "display_data"
    },
    {
     "name": "stdout",
     "output_type": "stream",
     "text": [
      "Epoch: [16/30], Step [260612/512520] | Train Loss:  0.358         | Train Accuracy:  0.733         | Val Loss:  0.392         | Val Accuracy:  0.688\n",
      "Epoch: [16/30], Step [264964/512520] | Train Loss:  0.373         | Train Accuracy:  0.715         | Val Loss:  0.384         | Val Accuracy:  0.705\n",
      "Model saved to ==> ./model_saves/model_RNN_epoch_30.pt\n",
      "Epoch: [16/30], Step [269316/512520] | Train Loss:  0.371         | Train Accuracy:  0.720         | Val Loss:  0.379         | Val Accuracy:  0.725\n",
      "Model saved to ==> ./model_saves/model_RNN_epoch_30.pt\n",
      "Epoch: [16/30], Step [273344/512520] | Train Loss:  0.372         | Train Accuracy:  0.723         | Val Loss:  0.372         | Val Accuracy:  0.734\n",
      "Model saved to ==> ./model_saves/model_RNN_epoch_30.pt\n"
     ]
    },
    {
     "data": {
      "application/vnd.jupyter.widget-view+json": {
       "model_id": "7d605a3df4824b53813bdabc60d7646e",
       "version_major": 2,
       "version_minor": 0
      },
      "text/plain": [
       "  0%|          | 0/67 [00:00<?, ?it/s]"
      ]
     },
     "metadata": {},
     "output_type": "display_data"
    },
    {
     "name": "stdout",
     "output_type": "stream",
     "text": [
      "Epoch: [17/30], Step [277696/512520] | Train Loss:  0.339         | Train Accuracy:  0.754         | Val Loss:  0.365         | Val Accuracy:  0.742\n",
      "Model saved to ==> ./model_saves/model_RNN_epoch_30.pt\n",
      "Epoch: [17/30], Step [282048/512520] | Train Loss:  0.351         | Train Accuracy:  0.744         | Val Loss:  0.367         | Val Accuracy:  0.731\n",
      "Epoch: [17/30], Step [286400/512520] | Train Loss:  0.351         | Train Accuracy:  0.749         | Val Loss:  0.357         | Val Accuracy:  0.745\n",
      "Model saved to ==> ./model_saves/model_RNN_epoch_30.pt\n",
      "Epoch: [17/30], Step [290428/512520] | Train Loss:  0.351         | Train Accuracy:  0.751         | Val Loss:  0.358         | Val Accuracy:  0.740\n"
     ]
    },
    {
     "data": {
      "application/vnd.jupyter.widget-view+json": {
       "model_id": "3910cf140259473bb550f7b73ea3ee2d",
       "version_major": 2,
       "version_minor": 0
      },
      "text/plain": [
       "  0%|          | 0/67 [00:00<?, ?it/s]"
      ]
     },
     "metadata": {},
     "output_type": "display_data"
    },
    {
     "name": "stdout",
     "output_type": "stream",
     "text": [
      "Epoch: [18/30], Step [294780/512520] | Train Loss:  0.323         | Train Accuracy:  0.778         | Val Loss:  0.349         | Val Accuracy:  0.753\n",
      "Model saved to ==> ./model_saves/model_RNN_epoch_30.pt\n",
      "Epoch: [18/30], Step [299132/512520] | Train Loss:  0.331         | Train Accuracy:  0.771         | Val Loss:  0.348         | Val Accuracy:  0.753\n",
      "Model saved to ==> ./model_saves/model_RNN_epoch_30.pt\n",
      "Epoch: [18/30], Step [303484/512520] | Train Loss:  0.330         | Train Accuracy:  0.776         | Val Loss:  0.338         | Val Accuracy:  0.766\n",
      "Model saved to ==> ./model_saves/model_RNN_epoch_30.pt\n",
      "Epoch: [18/30], Step [307512/512520] | Train Loss:  0.330         | Train Accuracy:  0.776         | Val Loss:  0.343         | Val Accuracy:  0.754\n"
     ]
    },
    {
     "data": {
      "application/vnd.jupyter.widget-view+json": {
       "model_id": "0fed5e1d86cb4547ad632b333e3cda36",
       "version_major": 2,
       "version_minor": 0
      },
      "text/plain": [
       "  0%|          | 0/67 [00:00<?, ?it/s]"
      ]
     },
     "metadata": {},
     "output_type": "display_data"
    },
    {
     "name": "stdout",
     "output_type": "stream",
     "text": [
      "Epoch: [19/30], Step [311864/512520] | Train Loss:  0.310         | Train Accuracy:  0.793         | Val Loss:  0.334         | Val Accuracy:  0.771\n",
      "Model saved to ==> ./model_saves/model_RNN_epoch_30.pt\n",
      "Epoch: [19/30], Step [316216/512520] | Train Loss:  0.318         | Train Accuracy:  0.785         | Val Loss:  0.340         | Val Accuracy:  0.768\n",
      "Epoch: [19/30], Step [320568/512520] | Train Loss:  0.318         | Train Accuracy:  0.786         | Val Loss:  0.341         | Val Accuracy:  0.767\n",
      "Epoch: [19/30], Step [324596/512520] | Train Loss:  0.317         | Train Accuracy:  0.790         | Val Loss:  0.331         | Val Accuracy:  0.773\n",
      "Model saved to ==> ./model_saves/model_RNN_epoch_30.pt\n"
     ]
    },
    {
     "data": {
      "application/vnd.jupyter.widget-view+json": {
       "model_id": "020bc83a5356478f80eb1036a5f0ad11",
       "version_major": 2,
       "version_minor": 0
      },
      "text/plain": [
       "  0%|          | 0/67 [00:00<?, ?it/s]"
      ]
     },
     "metadata": {},
     "output_type": "display_data"
    },
    {
     "name": "stdout",
     "output_type": "stream",
     "text": [
      "Epoch: [20/30], Step [328948/512520] | Train Loss:  0.300         | Train Accuracy:  0.804         | Val Loss:  0.332         | Val Accuracy:  0.784\n",
      "Epoch: [20/30], Step [333300/512520] | Train Loss:  0.309         | Train Accuracy:  0.795         | Val Loss:  0.336         | Val Accuracy:  0.765\n",
      "Epoch: [20/30], Step [337652/512520] | Train Loss:  0.309         | Train Accuracy:  0.795         | Val Loss:  0.338         | Val Accuracy:  0.772\n",
      "Epoch: [20/30], Step [341680/512520] | Train Loss:  0.309         | Train Accuracy:  0.797         | Val Loss:  0.324         | Val Accuracy:  0.772\n",
      "Model saved to ==> ./model_saves/model_RNN_epoch_30.pt\n"
     ]
    },
    {
     "data": {
      "application/vnd.jupyter.widget-view+json": {
       "model_id": "0625c4da9cf64dc9bb62f626938d5285",
       "version_major": 2,
       "version_minor": 0
      },
      "text/plain": [
       "  0%|          | 0/67 [00:00<?, ?it/s]"
      ]
     },
     "metadata": {},
     "output_type": "display_data"
    },
    {
     "name": "stdout",
     "output_type": "stream",
     "text": [
      "Epoch: [21/30], Step [346032/512520] | Train Loss:  0.294         | Train Accuracy:  0.807         | Val Loss:  0.331         | Val Accuracy:  0.785\n",
      "Epoch: [21/30], Step [350384/512520] | Train Loss:  0.302         | Train Accuracy:  0.800         | Val Loss:  0.327         | Val Accuracy:  0.774\n",
      "Epoch: [21/30], Step [354736/512520] | Train Loss:  0.302         | Train Accuracy:  0.803         | Val Loss:  0.330         | Val Accuracy:  0.772\n",
      "Epoch: [21/30], Step [358764/512520] | Train Loss:  0.302         | Train Accuracy:  0.805         | Val Loss:  0.322         | Val Accuracy:  0.772\n",
      "Model saved to ==> ./model_saves/model_RNN_epoch_30.pt\n"
     ]
    },
    {
     "data": {
      "application/vnd.jupyter.widget-view+json": {
       "model_id": "a23f9495df9747039a7630421c3adf6c",
       "version_major": 2,
       "version_minor": 0
      },
      "text/plain": [
       "  0%|          | 0/67 [00:00<?, ?it/s]"
      ]
     },
     "metadata": {},
     "output_type": "display_data"
    },
    {
     "name": "stdout",
     "output_type": "stream",
     "text": [
      "Epoch: [22/30], Step [363116/512520] | Train Loss:  0.290         | Train Accuracy:  0.810         | Val Loss:  0.333         | Val Accuracy:  0.775\n",
      "Epoch: [22/30], Step [367468/512520] | Train Loss:  0.298         | Train Accuracy:  0.805         | Val Loss:  0.325         | Val Accuracy:  0.770\n",
      "Epoch: [22/30], Step [371820/512520] | Train Loss:  0.298         | Train Accuracy:  0.808         | Val Loss:  0.318         | Val Accuracy:  0.784\n",
      "Model saved to ==> ./model_saves/model_RNN_epoch_30.pt\n",
      "Epoch: [22/30], Step [375848/512520] | Train Loss:  0.297         | Train Accuracy:  0.810         | Val Loss:  0.326         | Val Accuracy:  0.771\n"
     ]
    },
    {
     "data": {
      "application/vnd.jupyter.widget-view+json": {
       "model_id": "b079100d4090453c8b1285787fd8a937",
       "version_major": 2,
       "version_minor": 0
      },
      "text/plain": [
       "  0%|          | 0/67 [00:00<?, ?it/s]"
      ]
     },
     "metadata": {},
     "output_type": "display_data"
    },
    {
     "name": "stdout",
     "output_type": "stream",
     "text": [
      "Epoch: [23/30], Step [380200/512520] | Train Loss:  0.286         | Train Accuracy:  0.813         | Val Loss:  0.329         | Val Accuracy:  0.778\n",
      "Epoch: [23/30], Step [384552/512520] | Train Loss:  0.293         | Train Accuracy:  0.808         | Val Loss:  0.319         | Val Accuracy:  0.780\n",
      "Epoch: [23/30], Step [388904/512520] | Train Loss:  0.293         | Train Accuracy:  0.810         | Val Loss:  0.318         | Val Accuracy:  0.785\n",
      "Model saved to ==> ./model_saves/model_RNN_epoch_30.pt\n",
      "Epoch: [23/30], Step [392932/512520] | Train Loss:  0.292         | Train Accuracy:  0.813         | Val Loss:  0.319         | Val Accuracy:  0.778\n"
     ]
    },
    {
     "data": {
      "application/vnd.jupyter.widget-view+json": {
       "model_id": "ebe1a50c642541b692309f94e02f4de2",
       "version_major": 2,
       "version_minor": 0
      },
      "text/plain": [
       "  0%|          | 0/67 [00:00<?, ?it/s]"
      ]
     },
     "metadata": {},
     "output_type": "display_data"
    },
    {
     "name": "stdout",
     "output_type": "stream",
     "text": [
      "Epoch: [24/30], Step [397284/512520] | Train Loss:  0.281         | Train Accuracy:  0.818         | Val Loss:  0.321         | Val Accuracy:  0.780\n",
      "Epoch: [24/30], Step [401636/512520] | Train Loss:  0.287         | Train Accuracy:  0.813         | Val Loss:  0.318         | Val Accuracy:  0.789\n",
      "Model saved to ==> ./model_saves/model_RNN_epoch_30.pt\n",
      "Epoch: [24/30], Step [405988/512520] | Train Loss:  0.287         | Train Accuracy:  0.815         | Val Loss:  0.318         | Val Accuracy:  0.789\n",
      "Epoch: [24/30], Step [410016/512520] | Train Loss:  0.287         | Train Accuracy:  0.818         | Val Loss:  0.317         | Val Accuracy:  0.781\n",
      "Model saved to ==> ./model_saves/model_RNN_epoch_30.pt\n"
     ]
    },
    {
     "data": {
      "application/vnd.jupyter.widget-view+json": {
       "model_id": "79e143571d8c41b2b269d9091563c5d9",
       "version_major": 2,
       "version_minor": 0
      },
      "text/plain": [
       "  0%|          | 0/67 [00:00<?, ?it/s]"
      ]
     },
     "metadata": {},
     "output_type": "display_data"
    },
    {
     "name": "stdout",
     "output_type": "stream",
     "text": [
      "Epoch: [25/30], Step [414368/512520] | Train Loss:  0.276         | Train Accuracy:  0.822         | Val Loss:  0.319         | Val Accuracy:  0.780\n",
      "Epoch: [25/30], Step [418720/512520] | Train Loss:  0.281         | Train Accuracy:  0.818         | Val Loss:  0.314         | Val Accuracy:  0.785\n",
      "Model saved to ==> ./model_saves/model_RNN_epoch_30.pt\n",
      "Epoch: [25/30], Step [423072/512520] | Train Loss:  0.281         | Train Accuracy:  0.820         | Val Loss:  0.316         | Val Accuracy:  0.786\n",
      "Epoch: [25/30], Step [427100/512520] | Train Loss:  0.280         | Train Accuracy:  0.822         | Val Loss:  0.319         | Val Accuracy:  0.777\n"
     ]
    },
    {
     "data": {
      "application/vnd.jupyter.widget-view+json": {
       "model_id": "7362a3d3a93e40c3878d4a0af738cedb",
       "version_major": 2,
       "version_minor": 0
      },
      "text/plain": [
       "  0%|          | 0/67 [00:00<?, ?it/s]"
      ]
     },
     "metadata": {},
     "output_type": "display_data"
    },
    {
     "name": "stdout",
     "output_type": "stream",
     "text": [
      "Epoch: [26/30], Step [431452/512520] | Train Loss:  0.270         | Train Accuracy:  0.827         | Val Loss:  0.315         | Val Accuracy:  0.784\n",
      "Epoch: [26/30], Step [435804/512520] | Train Loss:  0.274         | Train Accuracy:  0.823         | Val Loss:  0.310         | Val Accuracy:  0.789\n",
      "Model saved to ==> ./model_saves/model_RNN_epoch_30.pt\n",
      "Epoch: [26/30], Step [440156/512520] | Train Loss:  0.274         | Train Accuracy:  0.826         | Val Loss:  0.311         | Val Accuracy:  0.789\n",
      "Epoch: [26/30], Step [444184/512520] | Train Loss:  0.274         | Train Accuracy:  0.828         | Val Loss:  0.316         | Val Accuracy:  0.782\n"
     ]
    },
    {
     "data": {
      "application/vnd.jupyter.widget-view+json": {
       "model_id": "9075676c8174453088ff2f75a23ce13a",
       "version_major": 2,
       "version_minor": 0
      },
      "text/plain": [
       "  0%|          | 0/67 [00:00<?, ?it/s]"
      ]
     },
     "metadata": {},
     "output_type": "display_data"
    },
    {
     "name": "stdout",
     "output_type": "stream",
     "text": [
      "Epoch: [27/30], Step [448536/512520] | Train Loss:  0.266         | Train Accuracy:  0.833         | Val Loss:  0.313         | Val Accuracy:  0.788\n",
      "Epoch: [27/30], Step [452888/512520] | Train Loss:  0.270         | Train Accuracy:  0.830         | Val Loss:  0.311         | Val Accuracy:  0.791\n",
      "Epoch: [27/30], Step [457240/512520] | Train Loss:  0.270         | Train Accuracy:  0.833         | Val Loss:  0.311         | Val Accuracy:  0.791\n",
      "Epoch: [27/30], Step [461268/512520] | Train Loss:  0.270         | Train Accuracy:  0.834         | Val Loss:  0.318         | Val Accuracy:  0.776\n"
     ]
    },
    {
     "data": {
      "application/vnd.jupyter.widget-view+json": {
       "model_id": "53cce726128444448c19b3824583e7b1",
       "version_major": 2,
       "version_minor": 0
      },
      "text/plain": [
       "  0%|          | 0/67 [00:00<?, ?it/s]"
      ]
     },
     "metadata": {},
     "output_type": "display_data"
    },
    {
     "name": "stdout",
     "output_type": "stream",
     "text": [
      "Epoch: [28/30], Step [465620/512520] | Train Loss:  0.264         | Train Accuracy:  0.832         | Val Loss:  0.313         | Val Accuracy:  0.787\n",
      "Epoch: [28/30], Step [469972/512520] | Train Loss:  0.269         | Train Accuracy:  0.830         | Val Loss:  0.307         | Val Accuracy:  0.796\n",
      "Model saved to ==> ./model_saves/model_RNN_epoch_30.pt\n",
      "Epoch: [28/30], Step [474324/512520] | Train Loss:  0.267         | Train Accuracy:  0.835         | Val Loss:  0.311         | Val Accuracy:  0.789\n",
      "Epoch: [28/30], Step [478352/512520] | Train Loss:  0.268         | Train Accuracy:  0.837         | Val Loss:  0.313         | Val Accuracy:  0.782\n"
     ]
    },
    {
     "data": {
      "application/vnd.jupyter.widget-view+json": {
       "model_id": "c04610dd504a4615944575aea192d31e",
       "version_major": 2,
       "version_minor": 0
      },
      "text/plain": [
       "  0%|          | 0/67 [00:00<?, ?it/s]"
      ]
     },
     "metadata": {},
     "output_type": "display_data"
    },
    {
     "name": "stdout",
     "output_type": "stream",
     "text": [
      "Epoch: [29/30], Step [482704/512520] | Train Loss:  0.259         | Train Accuracy:  0.838         | Val Loss:  0.312         | Val Accuracy:  0.788\n",
      "Epoch: [29/30], Step [487056/512520] | Train Loss:  0.263         | Train Accuracy:  0.836         | Val Loss:  0.304         | Val Accuracy:  0.802\n",
      "Model saved to ==> ./model_saves/model_RNN_epoch_30.pt\n",
      "Epoch: [29/30], Step [491408/512520] | Train Loss:  0.261         | Train Accuracy:  0.840         | Val Loss:  0.306         | Val Accuracy:  0.797\n",
      "Epoch: [29/30], Step [495436/512520] | Train Loss:  0.262         | Train Accuracy:  0.842         | Val Loss:  0.313         | Val Accuracy:  0.783\n"
     ]
    },
    {
     "data": {
      "application/vnd.jupyter.widget-view+json": {
       "model_id": "2aeebbee42684adb8842c393b2b4c493",
       "version_major": 2,
       "version_minor": 0
      },
      "text/plain": [
       "  0%|          | 0/67 [00:00<?, ?it/s]"
      ]
     },
     "metadata": {},
     "output_type": "display_data"
    },
    {
     "name": "stdout",
     "output_type": "stream",
     "text": [
      "Epoch: [30/30], Step [499788/512520] | Train Loss:  0.256         | Train Accuracy:  0.842         | Val Loss:  0.309         | Val Accuracy:  0.794\n",
      "Epoch: [30/30], Step [504140/512520] | Train Loss:  0.259         | Train Accuracy:  0.841         | Val Loss:  0.301         | Val Accuracy:  0.807\n",
      "Model saved to ==> ./model_saves/model_RNN_epoch_30.pt\n",
      "Epoch: [30/30], Step [508492/512520] | Train Loss:  0.258         | Train Accuracy:  0.843         | Val Loss:  0.306         | Val Accuracy:  0.795\n",
      "Epoch: [30/30], Step [512520/512520] | Train Loss:  0.259         | Train Accuracy:  0.845         | Val Loss:  0.316         | Val Accuracy:  0.782\n",
      "Training complete.\n"
     ]
    }
   ],
   "source": [
    "EPOCH = 30\n",
    "\n",
    "model = RNN().to(device)\n",
    "optimizer = optim.Adam(model.parameters(), lr=1e-2)\n",
    "criterion = nn.BCEWithLogitsLoss()\n",
    "\n",
    "model = train_RNN(EPOCH, train_loader, valid_loader, model,\n",
    "                  criterion, optimizer, device=device, save_dir=SAVE_DIR, model_save_name=SAVE_NAME)"
   ]
  },
  {
   "attachments": {},
   "cell_type": "markdown",
   "metadata": {},
   "source": [
    "# Evaluate and plot losses\n"
   ]
  },
  {
   "cell_type": "code",
   "execution_count": 7,
   "metadata": {},
   "outputs": [
    {
     "name": "stdout",
     "output_type": "stream",
     "text": [
      "Test Accuracy:  0.774\n"
     ]
    },
    {
     "data": {
      "image/png": "[encoded data removed]",
      "text/plain": [
       "<Figure size 640x480 with 1 Axes>"
      ]
     },
     "metadata": {},
     "output_type": "display_data"
    }
   ],
   "source": [
    "test_accuracy = evaluate_RNN(model, test_loader)\n",
    "plot_losses()\n",
    "rename_with_acc(SAVE_NAME, SAVE_DIR, test_accuracy)"
   ]
  }
 ],
 "metadata": {
  "kernelspec": {
   "display_name": "Python 3",
   "language": "python",
   "name": "python3"
  },
  "language_info": {
   "codemirror_mode": {
    "name": "ipython",
    "version": 3
   },
   "file_extension": ".py",
   "mimetype": "text/x-python",
   "name": "python",
   "nbconvert_exporter": "python",
   "pygments_lexer": "ipython3",
   "version": "3.10.5"
  },
  "orig_nbformat": 4
 },
 "nbformat": 4,
 "nbformat_minor": 2
}
