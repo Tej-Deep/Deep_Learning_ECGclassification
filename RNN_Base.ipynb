{
 "cells": [
  {
   "cell_type": "code",
   "execution_count": 1,
   "metadata": {},
   "outputs": [],
   "source": [
    "from preprocess.preprocess import load_dataset, compute_label_agg, select_data, get_data_loaders\n",
    "\n",
    "import torch\n",
    "import torch.nn as nn\n",
    "import torch.optim as optim\n",
    "\n",
    "from models.RNN import RNN\n",
    "from utils.RNN_utils import *"
   ]
  },
  {
   "cell_type": "code",
   "execution_count": 2,
   "metadata": {},
   "outputs": [
    {
     "name": "stdout",
     "output_type": "stream",
     "text": [
      "cuda\n"
     ]
    }
   ],
   "source": [
    "# Define device for torch\n",
    "use_cuda = True\n",
    "device = torch.device(\"cuda\" if (\n",
    "    use_cuda and torch.cuda.is_available()) else \"cpu\")\n",
    "print(device)"
   ]
  },
  {
   "attachments": {},
   "cell_type": "markdown",
   "metadata": {},
   "source": [
    "# Define options\n"
   ]
  },
  {
   "cell_type": "code",
   "execution_count": 3,
   "metadata": {},
   "outputs": [
    {
     "data": {
      "text/plain": [
       "<torch._C.Generator at 0x2c30ab9d0b0>"
      ]
     },
     "execution_count": 3,
     "metadata": {},
     "output_type": "execute_result"
    }
   ],
   "source": [
    "LOAD_DATASET = True\n",
    "TRAIN_PATH = './PTB_train.pt'\n",
    "VALID_PATH = './PTB_valid.pt'\n",
    "TEST_PATH = './PTB_test.pt'\n",
    "SAVE_NAME = 'RNN_epoch_30'\n",
    "SAVE_DIR = './model_saves/'\n",
    "BATCH_SIZE = 256\n",
    "\n",
    "EPOCH = 30\n",
    "\n",
    "torch.manual_seed(1)"
   ]
  },
  {
   "attachments": {},
   "cell_type": "markdown",
   "metadata": {},
   "source": [
    "# Loading the dataset\n"
   ]
  },
  {
   "cell_type": "code",
   "execution_count": 4,
   "metadata": {},
   "outputs": [],
   "source": [
    "if LOAD_DATASET:\n",
    "    train_loader = torch.load(TRAIN_PATH)\n",
    "    valid_loader = torch.load(VALID_PATH)\n",
    "    test_loader = torch.load(TEST_PATH)\n",
    "else:\n",
    "    path = './data/ptb-xl-a-large-publicly-available-electrocardiography-dataset-1.0.3/'\n",
    "\n",
    "    data, raw_labels = load_dataset(path)\n",
    "\n",
    "    labels = compute_label_agg(raw_labels, path)\n",
    "\n",
    "    data, labels, y = select_data(data, labels)\n",
    "\n",
    "    train_loader, valid_loader, test_loader = get_data_loaders(\n",
    "        data, labels, y, BATCH_SIZE)\n",
    "\n",
    "    torch.save(train_loader, TRAIN_PATH)\n",
    "    torch.save(valid_loader, VALID_PATH)\n",
    "    torch.save(test_loader, TEST_PATH)\n"
   ]
  },
  {
   "attachments": {},
   "cell_type": "markdown",
   "metadata": {},
   "source": [
    "# Training the model\n"
   ]
  },
  {
   "cell_type": "code",
   "execution_count": 5,
   "metadata": {},
   "outputs": [
    {
     "data": {
      "application/vnd.jupyter.widget-view+json": {
       "model_id": "5267798e38f740818ba6ce628bbee5ab",
       "version_major": 2,
       "version_minor": 0
      },
      "text/plain": [
       "  0%|          | 0/67 [00:00<?, ?it/s]"
      ]
     },
     "metadata": {},
     "output_type": "display_data"
    },
    {
     "name": "stdout",
     "output_type": "stream",
     "text": [
      "Epoch: [1/30], Step [4352/512520] | Train Loss:  0.557         | Train Accuracy:  0.482         | Val Loss:  0.546         | Val Accuracy:  0.445\n",
      "Model saved to ==> ./model_saves/model_RNN_epoch_30.pt\n",
      "Epoch: [1/30], Step [8704/512520] | Train Loss:  0.553         | Train Accuracy:  0.462         | Val Loss:  0.546         | Val Accuracy:  0.445\n",
      "Epoch: [1/30], Step [13056/512520] | Train Loss:  0.551         | Train Accuracy:  0.455         | Val Loss:  0.542         | Val Accuracy:  0.445\n",
      "Model saved to ==> ./model_saves/model_RNN_epoch_30.pt\n",
      "Epoch: [1/30], Step [17084/512520] | Train Loss:  0.553         | Train Accuracy:  0.436         | Val Loss:  0.558         | Val Accuracy:  0.253\n"
     ]
    },
    {
     "data": {
      "application/vnd.jupyter.widget-view+json": {
       "model_id": "e94b1ebfdec149ffb37f35b507898547",
       "version_major": 2,
       "version_minor": 0
      },
      "text/plain": [
       "  0%|          | 0/67 [00:00<?, ?it/s]"
      ]
     },
     "metadata": {},
     "output_type": "display_data"
    },
    {
     "name": "stdout",
     "output_type": "stream",
     "text": [
      "Epoch: [2/30], Step [21436/512520] | Train Loss:  0.529         | Train Accuracy:  0.481         | Val Loss:  0.537         | Val Accuracy:  0.484\n",
      "Model saved to ==> ./model_saves/model_RNN_epoch_30.pt\n",
      "Epoch: [2/30], Step [25788/512520] | Train Loss:  0.531         | Train Accuracy:  0.470         | Val Loss:  0.524         | Val Accuracy:  0.485\n",
      "Model saved to ==> ./model_saves/model_RNN_epoch_30.pt\n",
      "Epoch: [2/30], Step [30140/512520] | Train Loss:  0.530         | Train Accuracy:  0.478         | Val Loss:  0.522         | Val Accuracy:  0.497\n",
      "Model saved to ==> ./model_saves/model_RNN_epoch_30.pt\n",
      "Epoch: [2/30], Step [34168/512520] | Train Loss:  0.533         | Train Accuracy:  0.470         | Val Loss:  0.531         | Val Accuracy:  0.508\n"
     ]
    },
    {
     "data": {
      "application/vnd.jupyter.widget-view+json": {
       "model_id": "3f8af402599b47a79df8f02762b1a41e",
       "version_major": 2,
       "version_minor": 0
      },
      "text/plain": [
       "  0%|          | 0/67 [00:00<?, ?it/s]"
      ]
     },
     "metadata": {},
     "output_type": "display_data"
    },
    {
     "name": "stdout",
     "output_type": "stream",
     "text": [
      "Epoch: [3/30], Step [38520/512520] | Train Loss:  0.513         | Train Accuracy:  0.563         | Val Loss:  0.532         | Val Accuracy:  0.504\n",
      "Epoch: [3/30], Step [42872/512520] | Train Loss:  0.521         | Train Accuracy:  0.529         | Val Loss:  0.521         | Val Accuracy:  0.511\n",
      "Model saved to ==> ./model_saves/model_RNN_epoch_30.pt\n",
      "Epoch: [3/30], Step [47224/512520] | Train Loss:  0.522         | Train Accuracy:  0.521         | Val Loss:  0.518         | Val Accuracy:  0.508\n",
      "Model saved to ==> ./model_saves/model_RNN_epoch_30.pt\n",
      "Epoch: [3/30], Step [51252/512520] | Train Loss:  0.525         | Train Accuracy:  0.507         | Val Loss:  0.526         | Val Accuracy:  0.500\n"
     ]
    },
    {
     "data": {
      "application/vnd.jupyter.widget-view+json": {
       "model_id": "228fb79e45db428d9ba1dec7d2f667ab",
       "version_major": 2,
       "version_minor": 0
      },
      "text/plain": [
       "  0%|          | 0/67 [00:00<?, ?it/s]"
      ]
     },
     "metadata": {},
     "output_type": "display_data"
    },
    {
     "name": "stdout",
     "output_type": "stream",
     "text": [
      "Epoch: [4/30], Step [55604/512520] | Train Loss:  0.511         | Train Accuracy:  0.512         | Val Loss:  0.524         | Val Accuracy:  0.474\n",
      "Epoch: [4/30], Step [59956/512520] | Train Loss:  0.521         | Train Accuracy:  0.486         | Val Loss:  0.522         | Val Accuracy:  0.484\n",
      "Epoch: [4/30], Step [64308/512520] | Train Loss:  0.523         | Train Accuracy:  0.484         | Val Loss:  0.522         | Val Accuracy:  0.483\n",
      "Epoch: [4/30], Step [68336/512520] | Train Loss:  0.528         | Train Accuracy:  0.475         | Val Loss:  0.544         | Val Accuracy:  0.403\n"
     ]
    },
    {
     "data": {
      "application/vnd.jupyter.widget-view+json": {
       "model_id": "40370f603aa54aceae62f01ef5544978",
       "version_major": 2,
       "version_minor": 0
      },
      "text/plain": [
       "  0%|          | 0/67 [00:00<?, ?it/s]"
      ]
     },
     "metadata": {},
     "output_type": "display_data"
    },
    {
     "name": "stdout",
     "output_type": "stream",
     "text": [
      "Epoch: [5/30], Step [72688/512520] | Train Loss:  0.524         | Train Accuracy:  0.486         | Val Loss:  0.538         | Val Accuracy:  0.445\n",
      "Epoch: [5/30], Step [77040/512520] | Train Loss:  0.533         | Train Accuracy:  0.464         | Val Loss:  0.541         | Val Accuracy:  0.445\n",
      "Epoch: [5/30], Step [81392/512520] | Train Loss:  0.536         | Train Accuracy:  0.456         | Val Loss:  0.541         | Val Accuracy:  0.445\n",
      "Epoch: [5/30], Step [85420/512520] | Train Loss:  0.542         | Train Accuracy:  0.438         | Val Loss:  0.547         | Val Accuracy:  0.445\n"
     ]
    },
    {
     "data": {
      "application/vnd.jupyter.widget-view+json": {
       "model_id": "84411a712a50432c9400ba77990cf53e",
       "version_major": 2,
       "version_minor": 0
      },
      "text/plain": [
       "  0%|          | 0/67 [00:00<?, ?it/s]"
      ]
     },
     "metadata": {},
     "output_type": "display_data"
    },
    {
     "name": "stdout",
     "output_type": "stream",
     "text": [
      "Epoch: [6/30], Step [89772/512520] | Train Loss:  0.530         | Train Accuracy:  0.512         | Val Loss:  0.547         | Val Accuracy:  0.445\n",
      "Epoch: [6/30], Step [94124/512520] | Train Loss:  0.539         | Train Accuracy:  0.477         | Val Loss:  0.541         | Val Accuracy:  0.445\n",
      "Epoch: [6/30], Step [98476/512520] | Train Loss:  0.540         | Train Accuracy:  0.465         | Val Loss:  0.538         | Val Accuracy:  0.445\n",
      "Epoch: [6/30], Step [102504/512520] | Train Loss:  0.544         | Train Accuracy:  0.445         | Val Loss:  0.541         | Val Accuracy:  0.445\n"
     ]
    },
    {
     "data": {
      "application/vnd.jupyter.widget-view+json": {
       "model_id": "9794adb3ee4247fdb497ee746e6a7509",
       "version_major": 2,
       "version_minor": 0
      },
      "text/plain": [
       "  0%|          | 0/67 [00:00<?, ?it/s]"
      ]
     },
     "metadata": {},
     "output_type": "display_data"
    },
    {
     "name": "stdout",
     "output_type": "stream",
     "text": [
      "Epoch: [7/30], Step [106856/512520] | Train Loss:  0.526         | Train Accuracy:  0.512         | Val Loss:  0.539         | Val Accuracy:  0.445\n",
      "Epoch: [7/30], Step [111208/512520] | Train Loss:  0.535         | Train Accuracy:  0.477         | Val Loss:  0.538         | Val Accuracy:  0.445\n",
      "Epoch: [7/30], Step [115560/512520] | Train Loss:  0.537         | Train Accuracy:  0.465         | Val Loss:  0.538         | Val Accuracy:  0.445\n",
      "Epoch: [7/30], Step [119588/512520] | Train Loss:  0.542         | Train Accuracy:  0.445         | Val Loss:  0.542         | Val Accuracy:  0.445\n"
     ]
    },
    {
     "data": {
      "application/vnd.jupyter.widget-view+json": {
       "model_id": "a501831d467e483cb39f072268222d2b",
       "version_major": 2,
       "version_minor": 0
      },
      "text/plain": [
       "  0%|          | 0/67 [00:00<?, ?it/s]"
      ]
     },
     "metadata": {},
     "output_type": "display_data"
    },
    {
     "name": "stdout",
     "output_type": "stream",
     "text": [
      "Epoch: [8/30], Step [123940/512520] | Train Loss:  0.524         | Train Accuracy:  0.512         | Val Loss:  0.537         | Val Accuracy:  0.445\n",
      "Epoch: [8/30], Step [128292/512520] | Train Loss:  0.529         | Train Accuracy:  0.477         | Val Loss:  0.523         | Val Accuracy:  0.480\n",
      "Epoch: [8/30], Step [132644/512520] | Train Loss:  0.529         | Train Accuracy:  0.477         | Val Loss:  0.520         | Val Accuracy:  0.500\n",
      "Epoch: [8/30], Step [136672/512520] | Train Loss:  0.531         | Train Accuracy:  0.472         | Val Loss:  0.526         | Val Accuracy:  0.500\n"
     ]
    },
    {
     "data": {
      "application/vnd.jupyter.widget-view+json": {
       "model_id": "9ea1f42ca49b47359260d2881d664006",
       "version_major": 2,
       "version_minor": 0
      },
      "text/plain": [
       "  0%|          | 0/67 [00:00<?, ?it/s]"
      ]
     },
     "metadata": {},
     "output_type": "display_data"
    },
    {
     "name": "stdout",
     "output_type": "stream",
     "text": [
      "Epoch: [9/30], Step [141024/512520] | Train Loss:  0.513         | Train Accuracy:  0.529         | Val Loss:  0.533         | Val Accuracy:  0.494\n",
      "Epoch: [9/30], Step [145376/512520] | Train Loss:  0.523         | Train Accuracy:  0.506         | Val Loss:  0.526         | Val Accuracy:  0.493\n",
      "Epoch: [9/30], Step [149728/512520] | Train Loss:  0.526         | Train Accuracy:  0.498         | Val Loss:  0.521         | Val Accuracy:  0.499\n",
      "Epoch: [9/30], Step [153756/512520] | Train Loss:  0.529         | Train Accuracy:  0.486         | Val Loss:  0.524         | Val Accuracy:  0.505\n"
     ]
    },
    {
     "data": {
      "application/vnd.jupyter.widget-view+json": {
       "model_id": "f2d6f2f5bffc4412acc64b199ad05692",
       "version_major": 2,
       "version_minor": 0
      },
      "text/plain": [
       "  0%|          | 0/67 [00:00<?, ?it/s]"
      ]
     },
     "metadata": {},
     "output_type": "display_data"
    },
    {
     "name": "stdout",
     "output_type": "stream",
     "text": [
      "Epoch: [10/30], Step [158108/512520] | Train Loss:  0.510         | Train Accuracy:  0.538         | Val Loss:  0.522         | Val Accuracy:  0.500\n",
      "Epoch: [10/30], Step [162460/512520] | Train Loss:  0.518         | Train Accuracy:  0.512         | Val Loss:  0.519         | Val Accuracy:  0.498\n",
      "Epoch: [10/30], Step [166812/512520] | Train Loss:  0.519         | Train Accuracy:  0.507         | Val Loss:  0.521         | Val Accuracy:  0.503\n",
      "Epoch: [10/30], Step [170840/512520] | Train Loss:  0.524         | Train Accuracy:  0.493         | Val Loss:  0.527         | Val Accuracy:  0.494\n"
     ]
    },
    {
     "data": {
      "application/vnd.jupyter.widget-view+json": {
       "model_id": "a7b4c52a5b4042bb8d17d99386111820",
       "version_major": 2,
       "version_minor": 0
      },
      "text/plain": [
       "  0%|          | 0/67 [00:00<?, ?it/s]"
      ]
     },
     "metadata": {},
     "output_type": "display_data"
    },
    {
     "name": "stdout",
     "output_type": "stream",
     "text": [
      "Epoch: [11/30], Step [175192/512520] | Train Loss:  0.514         | Train Accuracy:  0.505         | Val Loss:  0.523         | Val Accuracy:  0.486\n",
      "Epoch: [11/30], Step [179544/512520] | Train Loss:  0.528         | Train Accuracy:  0.468         | Val Loss:  0.534         | Val Accuracy:  0.449\n",
      "Epoch: [11/30], Step [183896/512520] | Train Loss:  0.530         | Train Accuracy:  0.462         | Val Loss:  0.532         | Val Accuracy:  0.454\n",
      "Epoch: [11/30], Step [187924/512520] | Train Loss:  0.534         | Train Accuracy:  0.453         | Val Loss:  0.536         | Val Accuracy:  0.451\n"
     ]
    },
    {
     "data": {
      "application/vnd.jupyter.widget-view+json": {
       "model_id": "0553a82388fd42228caf193e7c47f467",
       "version_major": 2,
       "version_minor": 0
      },
      "text/plain": [
       "  0%|          | 0/67 [00:00<?, ?it/s]"
      ]
     },
     "metadata": {},
     "output_type": "display_data"
    },
    {
     "name": "stdout",
     "output_type": "stream",
     "text": [
      "Epoch: [12/30], Step [192276/512520] | Train Loss:  0.521         | Train Accuracy:  0.499         | Val Loss:  0.542         | Val Accuracy:  0.445\n",
      "Epoch: [12/30], Step [196628/512520] | Train Loss:  0.529         | Train Accuracy:  0.481         | Val Loss:  0.531         | Val Accuracy:  0.484\n",
      "Epoch: [12/30], Step [200980/512520] | Train Loss:  0.531         | Train Accuracy:  0.477         | Val Loss:  0.530         | Val Accuracy:  0.483\n",
      "Epoch: [12/30], Step [205008/512520] | Train Loss:  0.534         | Train Accuracy:  0.467         | Val Loss:  0.534         | Val Accuracy:  0.483\n"
     ]
    },
    {
     "data": {
      "application/vnd.jupyter.widget-view+json": {
       "model_id": "2f81526ab3a14569aeaf8a43e4a769ff",
       "version_major": 2,
       "version_minor": 0
      },
      "text/plain": [
       "  0%|          | 0/67 [00:00<?, ?it/s]"
      ]
     },
     "metadata": {},
     "output_type": "display_data"
    },
    {
     "name": "stdout",
     "output_type": "stream",
     "text": [
      "Epoch: [13/30], Step [209360/512520] | Train Loss:  0.517         | Train Accuracy:  0.540         | Val Loss:  0.530         | Val Accuracy:  0.482\n",
      "Epoch: [13/30], Step [213712/512520] | Train Loss:  0.526         | Train Accuracy:  0.506         | Val Loss:  0.529         | Val Accuracy:  0.481\n",
      "Epoch: [13/30], Step [218064/512520] | Train Loss:  0.527         | Train Accuracy:  0.499         | Val Loss:  0.522         | Val Accuracy:  0.492\n",
      "Epoch: [13/30], Step [222092/512520] | Train Loss:  0.529         | Train Accuracy:  0.485         | Val Loss:  0.521         | Val Accuracy:  0.488\n"
     ]
    },
    {
     "data": {
      "application/vnd.jupyter.widget-view+json": {
       "model_id": "5b7db6b1d7614c248e0ee206808eec52",
       "version_major": 2,
       "version_minor": 0
      },
      "text/plain": [
       "  0%|          | 0/67 [00:00<?, ?it/s]"
      ]
     },
     "metadata": {},
     "output_type": "display_data"
    },
    {
     "name": "stdout",
     "output_type": "stream",
     "text": [
      "Epoch: [14/30], Step [226444/512520] | Train Loss:  0.501         | Train Accuracy:  0.543         | Val Loss:  0.519         | Val Accuracy:  0.491\n",
      "Epoch: [14/30], Step [230796/512520] | Train Loss:  0.510         | Train Accuracy:  0.513         | Val Loss:  0.509         | Val Accuracy:  0.497\n",
      "Model saved to ==> ./model_saves/model_RNN_epoch_30.pt\n",
      "Epoch: [14/30], Step [235148/512520] | Train Loss:  0.510         | Train Accuracy:  0.509         | Val Loss:  0.503         | Val Accuracy:  0.511\n",
      "Model saved to ==> ./model_saves/model_RNN_epoch_30.pt\n",
      "Epoch: [14/30], Step [239176/512520] | Train Loss:  0.512         | Train Accuracy:  0.502         | Val Loss:  0.504         | Val Accuracy:  0.526\n"
     ]
    },
    {
     "data": {
      "application/vnd.jupyter.widget-view+json": {
       "model_id": "1068d623f4ba48f883223e5eb37c3d58",
       "version_major": 2,
       "version_minor": 0
      },
      "text/plain": [
       "  0%|          | 0/67 [00:00<?, ?it/s]"
      ]
     },
     "metadata": {},
     "output_type": "display_data"
    },
    {
     "name": "stdout",
     "output_type": "stream",
     "text": [
      "Epoch: [15/30], Step [243528/512520] | Train Loss:  0.478         | Train Accuracy:  0.570         | Val Loss:  0.503         | Val Accuracy:  0.522\n",
      "Model saved to ==> ./model_saves/model_RNN_epoch_30.pt\n",
      "Epoch: [15/30], Step [247880/512520] | Train Loss:  0.491         | Train Accuracy:  0.546         | Val Loss:  0.490         | Val Accuracy:  0.535\n",
      "Model saved to ==> ./model_saves/model_RNN_epoch_30.pt\n",
      "Epoch: [15/30], Step [252232/512520] | Train Loss:  0.489         | Train Accuracy:  0.546         | Val Loss:  0.481         | Val Accuracy:  0.555\n",
      "Model saved to ==> ./model_saves/model_RNN_epoch_30.pt\n",
      "Epoch: [15/30], Step [256260/512520] | Train Loss:  0.491         | Train Accuracy:  0.547         | Val Loss:  0.492         | Val Accuracy:  0.523\n"
     ]
    },
    {
     "data": {
      "application/vnd.jupyter.widget-view+json": {
       "model_id": "e0a6fc490af0437e85b2c660158f10f0",
       "version_major": 2,
       "version_minor": 0
      },
      "text/plain": [
       "  0%|          | 0/67 [00:00<?, ?it/s]"
      ]
     },
     "metadata": {},
     "output_type": "display_data"
    },
    {
     "name": "stdout",
     "output_type": "stream",
     "text": [
      "Epoch: [16/30], Step [260612/512520] | Train Loss:  0.457         | Train Accuracy:  0.583         | Val Loss:  0.475         | Val Accuracy:  0.544\n",
      "Model saved to ==> ./model_saves/model_RNN_epoch_30.pt\n",
      "Epoch: [16/30], Step [264964/512520] | Train Loss:  0.468         | Train Accuracy:  0.572         | Val Loss:  0.463         | Val Accuracy:  0.564\n",
      "Model saved to ==> ./model_saves/model_RNN_epoch_30.pt\n",
      "Epoch: [16/30], Step [269316/512520] | Train Loss:  0.462         | Train Accuracy:  0.581         | Val Loss:  0.435         | Val Accuracy:  0.615\n",
      "Model saved to ==> ./model_saves/model_RNN_epoch_30.pt\n",
      "Epoch: [16/30], Step [273344/512520] | Train Loss:  0.461         | Train Accuracy:  0.585         | Val Loss:  0.436         | Val Accuracy:  0.616\n"
     ]
    },
    {
     "data": {
      "application/vnd.jupyter.widget-view+json": {
       "model_id": "15c903b81ac849978b3bfaeb85bf4652",
       "version_major": 2,
       "version_minor": 0
      },
      "text/plain": [
       "  0%|          | 0/67 [00:00<?, ?it/s]"
      ]
     },
     "metadata": {},
     "output_type": "display_data"
    },
    {
     "name": "stdout",
     "output_type": "stream",
     "text": [
      "Epoch: [17/30], Step [277696/512520] | Train Loss:  0.403         | Train Accuracy:  0.662         | Val Loss:  0.420         | Val Accuracy:  0.655\n",
      "Model saved to ==> ./model_saves/model_RNN_epoch_30.pt\n",
      "Epoch: [17/30], Step [282048/512520] | Train Loss:  0.417         | Train Accuracy:  0.652         | Val Loss:  0.419         | Val Accuracy:  0.664\n",
      "Model saved to ==> ./model_saves/model_RNN_epoch_30.pt\n",
      "Epoch: [17/30], Step [286400/512520] | Train Loss:  0.412         | Train Accuracy:  0.662         | Val Loss:  0.415         | Val Accuracy:  0.654\n",
      "Model saved to ==> ./model_saves/model_RNN_epoch_30.pt\n",
      "Epoch: [17/30], Step [290428/512520] | Train Loss:  0.414         | Train Accuracy:  0.666         | Val Loss:  0.401         | Val Accuracy:  0.691\n",
      "Model saved to ==> ./model_saves/model_RNN_epoch_30.pt\n"
     ]
    },
    {
     "data": {
      "application/vnd.jupyter.widget-view+json": {
       "model_id": "03877b8cb16644f49bc8ed5e4a99eacf",
       "version_major": 2,
       "version_minor": 0
      },
      "text/plain": [
       "  0%|          | 0/67 [00:00<?, ?it/s]"
      ]
     },
     "metadata": {},
     "output_type": "display_data"
    },
    {
     "name": "stdout",
     "output_type": "stream",
     "text": [
      "Epoch: [18/30], Step [294780/512520] | Train Loss:  0.368         | Train Accuracy:  0.725         | Val Loss:  0.395         | Val Accuracy:  0.698\n",
      "Model saved to ==> ./model_saves/model_RNN_epoch_30.pt\n",
      "Epoch: [18/30], Step [299132/512520] | Train Loss:  0.382         | Train Accuracy:  0.709         | Val Loss:  0.396         | Val Accuracy:  0.687\n",
      "Epoch: [18/30], Step [303484/512520] | Train Loss:  0.381         | Train Accuracy:  0.710         | Val Loss:  0.390         | Val Accuracy:  0.700\n",
      "Model saved to ==> ./model_saves/model_RNN_epoch_30.pt\n",
      "Epoch: [18/30], Step [307512/512520] | Train Loss:  0.383         | Train Accuracy:  0.712         | Val Loss:  0.379         | Val Accuracy:  0.708\n",
      "Model saved to ==> ./model_saves/model_RNN_epoch_30.pt\n"
     ]
    },
    {
     "data": {
      "application/vnd.jupyter.widget-view+json": {
       "model_id": "3704b9ff6ab14b2294f139545cd884a8",
       "version_major": 2,
       "version_minor": 0
      },
      "text/plain": [
       "  0%|          | 0/67 [00:00<?, ?it/s]"
      ]
     },
     "metadata": {},
     "output_type": "display_data"
    },
    {
     "name": "stdout",
     "output_type": "stream",
     "text": [
      "Epoch: [19/30], Step [311864/512520] | Train Loss:  0.342         | Train Accuracy:  0.747         | Val Loss:  0.368         | Val Accuracy:  0.731\n",
      "Model saved to ==> ./model_saves/model_RNN_epoch_30.pt\n",
      "Epoch: [19/30], Step [316216/512520] | Train Loss:  0.354         | Train Accuracy:  0.738         | Val Loss:  0.374         | Val Accuracy:  0.713\n",
      "Epoch: [19/30], Step [320568/512520] | Train Loss:  0.354         | Train Accuracy:  0.743         | Val Loss:  0.362         | Val Accuracy:  0.733\n",
      "Model saved to ==> ./model_saves/model_RNN_epoch_30.pt\n",
      "Epoch: [19/30], Step [324596/512520] | Train Loss:  0.356         | Train Accuracy:  0.745         | Val Loss:  0.370         | Val Accuracy:  0.700\n"
     ]
    },
    {
     "data": {
      "application/vnd.jupyter.widget-view+json": {
       "model_id": "a9119c90619f4f369514bc8b615941eb",
       "version_major": 2,
       "version_minor": 0
      },
      "text/plain": [
       "  0%|          | 0/67 [00:00<?, ?it/s]"
      ]
     },
     "metadata": {},
     "output_type": "display_data"
    },
    {
     "name": "stdout",
     "output_type": "stream",
     "text": [
      "Epoch: [20/30], Step [328948/512520] | Train Loss:  0.331         | Train Accuracy:  0.767         | Val Loss:  0.356         | Val Accuracy:  0.750\n",
      "Model saved to ==> ./model_saves/model_RNN_epoch_30.pt\n",
      "Epoch: [20/30], Step [333300/512520] | Train Loss:  0.341         | Train Accuracy:  0.765         | Val Loss:  0.354         | Val Accuracy:  0.754\n",
      "Model saved to ==> ./model_saves/model_RNN_epoch_30.pt\n",
      "Epoch: [20/30], Step [337652/512520] | Train Loss:  0.340         | Train Accuracy:  0.767         | Val Loss:  0.354         | Val Accuracy:  0.758\n",
      "Model saved to ==> ./model_saves/model_RNN_epoch_30.pt\n",
      "Epoch: [20/30], Step [341680/512520] | Train Loss:  0.340         | Train Accuracy:  0.769         | Val Loss:  0.359         | Val Accuracy:  0.741\n"
     ]
    },
    {
     "data": {
      "application/vnd.jupyter.widget-view+json": {
       "model_id": "facc895f68d4462b82f85807c570fb49",
       "version_major": 2,
       "version_minor": 0
      },
      "text/plain": [
       "  0%|          | 0/67 [00:00<?, ?it/s]"
      ]
     },
     "metadata": {},
     "output_type": "display_data"
    },
    {
     "name": "stdout",
     "output_type": "stream",
     "text": [
      "Epoch: [21/30], Step [346032/512520] | Train Loss:  0.317         | Train Accuracy:  0.789         | Val Loss:  0.344         | Val Accuracy:  0.763\n",
      "Model saved to ==> ./model_saves/model_RNN_epoch_30.pt\n",
      "Epoch: [21/30], Step [350384/512520] | Train Loss:  0.324         | Train Accuracy:  0.784         | Val Loss:  0.346         | Val Accuracy:  0.754\n",
      "Epoch: [21/30], Step [354736/512520] | Train Loss:  0.323         | Train Accuracy:  0.788         | Val Loss:  0.334         | Val Accuracy:  0.774\n",
      "Model saved to ==> ./model_saves/model_RNN_epoch_30.pt\n",
      "Epoch: [21/30], Step [358764/512520] | Train Loss:  0.322         | Train Accuracy:  0.789         | Val Loss:  0.337         | Val Accuracy:  0.760\n"
     ]
    },
    {
     "data": {
      "application/vnd.jupyter.widget-view+json": {
       "model_id": "d38d5fd8a0e04d47a13cbd2b2edfcd3d",
       "version_major": 2,
       "version_minor": 0
      },
      "text/plain": [
       "  0%|          | 0/67 [00:00<?, ?it/s]"
      ]
     },
     "metadata": {},
     "output_type": "display_data"
    },
    {
     "name": "stdout",
     "output_type": "stream",
     "text": [
      "Epoch: [22/30], Step [363116/512520] | Train Loss:  0.302         | Train Accuracy:  0.804         | Val Loss:  0.333         | Val Accuracy:  0.769\n",
      "Model saved to ==> ./model_saves/model_RNN_epoch_30.pt\n",
      "Epoch: [22/30], Step [367468/512520] | Train Loss:  0.309         | Train Accuracy:  0.796         | Val Loss:  0.332         | Val Accuracy:  0.774\n",
      "Model saved to ==> ./model_saves/model_RNN_epoch_30.pt\n",
      "Epoch: [22/30], Step [371820/512520] | Train Loss:  0.307         | Train Accuracy:  0.798         | Val Loss:  0.326         | Val Accuracy:  0.776\n",
      "Model saved to ==> ./model_saves/model_RNN_epoch_30.pt\n",
      "Epoch: [22/30], Step [375848/512520] | Train Loss:  0.307         | Train Accuracy:  0.801         | Val Loss:  0.324         | Val Accuracy:  0.774\n",
      "Model saved to ==> ./model_saves/model_RNN_epoch_30.pt\n"
     ]
    },
    {
     "data": {
      "application/vnd.jupyter.widget-view+json": {
       "model_id": "b2d8aec224ac45a98f6c7cad78c74585",
       "version_major": 2,
       "version_minor": 0
      },
      "text/plain": [
       "  0%|          | 0/67 [00:00<?, ?it/s]"
      ]
     },
     "metadata": {},
     "output_type": "display_data"
    },
    {
     "name": "stdout",
     "output_type": "stream",
     "text": [
      "Epoch: [23/30], Step [380200/512520] | Train Loss:  0.290         | Train Accuracy:  0.812         | Val Loss:  0.322         | Val Accuracy:  0.784\n",
      "Model saved to ==> ./model_saves/model_RNN_epoch_30.pt\n",
      "Epoch: [23/30], Step [384552/512520] | Train Loss:  0.295         | Train Accuracy:  0.806         | Val Loss:  0.321         | Val Accuracy:  0.780\n",
      "Model saved to ==> ./model_saves/model_RNN_epoch_30.pt\n",
      "Epoch: [23/30], Step [388904/512520] | Train Loss:  0.294         | Train Accuracy:  0.809         | Val Loss:  0.319         | Val Accuracy:  0.791\n",
      "Model saved to ==> ./model_saves/model_RNN_epoch_30.pt\n",
      "Epoch: [23/30], Step [392932/512520] | Train Loss:  0.294         | Train Accuracy:  0.812         | Val Loss:  0.317         | Val Accuracy:  0.784\n",
      "Model saved to ==> ./model_saves/model_RNN_epoch_30.pt\n"
     ]
    },
    {
     "data": {
      "application/vnd.jupyter.widget-view+json": {
       "model_id": "24b4dcac9eca46aeb6030a6265a451cd",
       "version_major": 2,
       "version_minor": 0
      },
      "text/plain": [
       "  0%|          | 0/67 [00:00<?, ?it/s]"
      ]
     },
     "metadata": {},
     "output_type": "display_data"
    },
    {
     "name": "stdout",
     "output_type": "stream",
     "text": [
      "Epoch: [24/30], Step [397284/512520] | Train Loss:  0.280         | Train Accuracy:  0.820         | Val Loss:  0.317         | Val Accuracy:  0.789\n",
      "Model saved to ==> ./model_saves/model_RNN_epoch_30.pt\n",
      "Epoch: [24/30], Step [401636/512520] | Train Loss:  0.286         | Train Accuracy:  0.814         | Val Loss:  0.317         | Val Accuracy:  0.793\n",
      "Epoch: [24/30], Step [405988/512520] | Train Loss:  0.286         | Train Accuracy:  0.817         | Val Loss:  0.316         | Val Accuracy:  0.796\n",
      "Model saved to ==> ./model_saves/model_RNN_epoch_30.pt\n",
      "Epoch: [24/30], Step [410016/512520] | Train Loss:  0.286         | Train Accuracy:  0.819         | Val Loss:  0.314         | Val Accuracy:  0.787\n",
      "Model saved to ==> ./model_saves/model_RNN_epoch_30.pt\n"
     ]
    },
    {
     "data": {
      "application/vnd.jupyter.widget-view+json": {
       "model_id": "8459cb1bdfd54c01b27175c54842c319",
       "version_major": 2,
       "version_minor": 0
      },
      "text/plain": [
       "  0%|          | 0/67 [00:00<?, ?it/s]"
      ]
     },
     "metadata": {},
     "output_type": "display_data"
    },
    {
     "name": "stdout",
     "output_type": "stream",
     "text": [
      "Epoch: [25/30], Step [414368/512520] | Train Loss:  0.275         | Train Accuracy:  0.822         | Val Loss:  0.317         | Val Accuracy:  0.788\n",
      "Epoch: [25/30], Step [418720/512520] | Train Loss:  0.280         | Train Accuracy:  0.819         | Val Loss:  0.313         | Val Accuracy:  0.792\n",
      "Model saved to ==> ./model_saves/model_RNN_epoch_30.pt\n",
      "Epoch: [25/30], Step [423072/512520] | Train Loss:  0.280         | Train Accuracy:  0.822         | Val Loss:  0.314         | Val Accuracy:  0.801\n",
      "Epoch: [25/30], Step [427100/512520] | Train Loss:  0.280         | Train Accuracy:  0.825         | Val Loss:  0.310         | Val Accuracy:  0.789\n",
      "Model saved to ==> ./model_saves/model_RNN_epoch_30.pt\n"
     ]
    },
    {
     "data": {
      "application/vnd.jupyter.widget-view+json": {
       "model_id": "43dc68ecb58e47ae8032c625b6a3140b",
       "version_major": 2,
       "version_minor": 0
      },
      "text/plain": [
       "  0%|          | 0/67 [00:00<?, ?it/s]"
      ]
     },
     "metadata": {},
     "output_type": "display_data"
    },
    {
     "name": "stdout",
     "output_type": "stream",
     "text": [
      "Epoch: [26/30], Step [431452/512520] | Train Loss:  0.270         | Train Accuracy:  0.827         | Val Loss:  0.314         | Val Accuracy:  0.798\n",
      "Epoch: [26/30], Step [435804/512520] | Train Loss:  0.274         | Train Accuracy:  0.825         | Val Loss:  0.309         | Val Accuracy:  0.798\n",
      "Model saved to ==> ./model_saves/model_RNN_epoch_30.pt\n",
      "Epoch: [26/30], Step [440156/512520] | Train Loss:  0.273         | Train Accuracy:  0.829         | Val Loss:  0.305         | Val Accuracy:  0.810\n",
      "Model saved to ==> ./model_saves/model_RNN_epoch_30.pt\n",
      "Epoch: [26/30], Step [444184/512520] | Train Loss:  0.273         | Train Accuracy:  0.830         | Val Loss:  0.305         | Val Accuracy:  0.800\n"
     ]
    },
    {
     "data": {
      "application/vnd.jupyter.widget-view+json": {
       "model_id": "f6de75ee3bd6456e95937581f14161f0",
       "version_major": 2,
       "version_minor": 0
      },
      "text/plain": [
       "  0%|          | 0/67 [00:00<?, ?it/s]"
      ]
     },
     "metadata": {},
     "output_type": "display_data"
    },
    {
     "name": "stdout",
     "output_type": "stream",
     "text": [
      "Epoch: [27/30], Step [448536/512520] | Train Loss:  0.262         | Train Accuracy:  0.833         | Val Loss:  0.312         | Val Accuracy:  0.793\n",
      "Epoch: [27/30], Step [452888/512520] | Train Loss:  0.268         | Train Accuracy:  0.830         | Val Loss:  0.307         | Val Accuracy:  0.794\n",
      "Epoch: [27/30], Step [457240/512520] | Train Loss:  0.268         | Train Accuracy:  0.834         | Val Loss:  0.303         | Val Accuracy:  0.812\n",
      "Model saved to ==> ./model_saves/model_RNN_epoch_30.pt\n",
      "Epoch: [27/30], Step [461268/512520] | Train Loss:  0.268         | Train Accuracy:  0.836         | Val Loss:  0.300         | Val Accuracy:  0.805\n",
      "Model saved to ==> ./model_saves/model_RNN_epoch_30.pt\n"
     ]
    },
    {
     "data": {
      "application/vnd.jupyter.widget-view+json": {
       "model_id": "68eb796936284a3e9f229dd6c0710ade",
       "version_major": 2,
       "version_minor": 0
      },
      "text/plain": [
       "  0%|          | 0/67 [00:00<?, ?it/s]"
      ]
     },
     "metadata": {},
     "output_type": "display_data"
    },
    {
     "name": "stdout",
     "output_type": "stream",
     "text": [
      "Epoch: [28/30], Step [465620/512520] | Train Loss:  0.256         | Train Accuracy:  0.840         | Val Loss:  0.306         | Val Accuracy:  0.800\n",
      "Epoch: [28/30], Step [469972/512520] | Train Loss:  0.261         | Train Accuracy:  0.838         | Val Loss:  0.301         | Val Accuracy:  0.805\n",
      "Epoch: [28/30], Step [474324/512520] | Train Loss:  0.261         | Train Accuracy:  0.841         | Val Loss:  0.301         | Val Accuracy:  0.811\n",
      "Epoch: [28/30], Step [478352/512520] | Train Loss:  0.261         | Train Accuracy:  0.843         | Val Loss:  0.299         | Val Accuracy:  0.803\n",
      "Model saved to ==> ./model_saves/model_RNN_epoch_30.pt\n"
     ]
    },
    {
     "data": {
      "application/vnd.jupyter.widget-view+json": {
       "model_id": "d15d6142bdce402ab173b3b4c6d9d49d",
       "version_major": 2,
       "version_minor": 0
      },
      "text/plain": [
       "  0%|          | 0/67 [00:00<?, ?it/s]"
      ]
     },
     "metadata": {},
     "output_type": "display_data"
    },
    {
     "name": "stdout",
     "output_type": "stream",
     "text": [
      "Epoch: [29/30], Step [482704/512520] | Train Loss:  0.249         | Train Accuracy:  0.846         | Val Loss:  0.306         | Val Accuracy:  0.800\n",
      "Epoch: [29/30], Step [487056/512520] | Train Loss:  0.255         | Train Accuracy:  0.842         | Val Loss:  0.303         | Val Accuracy:  0.799\n",
      "Epoch: [29/30], Step [491408/512520] | Train Loss:  0.257         | Train Accuracy:  0.844         | Val Loss:  0.304         | Val Accuracy:  0.805\n",
      "Epoch: [29/30], Step [495436/512520] | Train Loss:  0.258         | Train Accuracy:  0.845         | Val Loss:  0.299         | Val Accuracy:  0.799\n",
      "Model saved to ==> ./model_saves/model_RNN_epoch_30.pt\n"
     ]
    },
    {
     "data": {
      "application/vnd.jupyter.widget-view+json": {
       "model_id": "465f989719774b9b888aa83b0e789cef",
       "version_major": 2,
       "version_minor": 0
      },
      "text/plain": [
       "  0%|          | 0/67 [00:00<?, ?it/s]"
      ]
     },
     "metadata": {},
     "output_type": "display_data"
    },
    {
     "name": "stdout",
     "output_type": "stream",
     "text": [
      "Epoch: [30/30], Step [499788/512520] | Train Loss:  0.248         | Train Accuracy:  0.847         | Val Loss:  0.306         | Val Accuracy:  0.798\n",
      "Epoch: [30/30], Step [504140/512520] | Train Loss:  0.254         | Train Accuracy:  0.846         | Val Loss:  0.295         | Val Accuracy:  0.815\n",
      "Model saved to ==> ./model_saves/model_RNN_epoch_30.pt\n",
      "Epoch: [30/30], Step [508492/512520] | Train Loss:  0.253         | Train Accuracy:  0.849         | Val Loss:  0.297         | Val Accuracy:  0.814\n",
      "Epoch: [30/30], Step [512520/512520] | Train Loss:  0.253         | Train Accuracy:  0.850         | Val Loss:  0.300         | Val Accuracy:  0.801\n",
      "Training complete.\n"
     ]
    }
   ],
   "source": [
    "\n",
    "model = RNN().to(device)\n",
    "optimizer = optim.Adam(model.parameters(), lr=1e-2)\n",
    "criterion = nn.BCEWithLogitsLoss()\n",
    "\n",
    "model = train_RNN(EPOCH, train_loader, valid_loader, model,\n",
    "                  criterion, optimizer, device=device, save_dir=SAVE_DIR, model_save_name=SAVE_NAME)"
   ]
  },
  {
   "attachments": {},
   "cell_type": "markdown",
   "metadata": {},
   "source": [
    "# Evaluate and plot losses\n"
   ]
  },
  {
   "cell_type": "code",
   "execution_count": 6,
   "metadata": {},
   "outputs": [
    {
     "name": "stdout",
     "output_type": "stream",
     "text": [
      "Test Accuracy:  0.794\n"
     ]
    },
    {
     "data": {
      "image/png": "[encoded data removed]",
      "text/plain": [
       "<Figure size 640x480 with 1 Axes>"
      ]
     },
     "metadata": {},
     "output_type": "display_data"
    }
   ],
   "source": [
    "test_accuracy = evaluate_RNN(model, test_loader)\n",
    "plot_losses(metrics_save_name=SAVE_NAME, save_dir=SAVE_DIR)\n",
    "rename_with_acc(SAVE_NAME, SAVE_DIR, test_accuracy)"
   ]
  }
 ],
 "metadata": {
  "kernelspec": {
   "display_name": "Python 3",
   "language": "python",
   "name": "python3"
  },
  "language_info": {
   "codemirror_mode": {
    "name": "ipython",
    "version": 3
   },
   "file_extension": ".py",
   "mimetype": "text/x-python",
   "name": "python",
   "nbconvert_exporter": "python",
   "pygments_lexer": "ipython3",
   "version": "3.10.5"
  },
  "orig_nbformat": 4
 },
 "nbformat": 4,
 "nbformat_minor": 2
}
