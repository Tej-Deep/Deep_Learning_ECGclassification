{
 "cells": [
  {
   "cell_type": "code",
   "execution_count": null,
   "metadata": {},
   "outputs": [],
   "source": [
    "from preprocess.preprocess import load_dataset, compute_label_agg, select_data, get_data_loaders, undersample\n",
    "\n",
    "import torch\n",
    "import torch.nn as nn\n",
    "import torch.optim as optim\n",
    "\n",
    "from models.CNN import *\n",
    "from utils.trainer import trainer\n",
    "from utils.RNN_utils import plot_losses, rename_with_acc"
   ]
  },
  {
   "cell_type": "code",
   "execution_count": null,
   "metadata": {},
   "outputs": [],
   "source": [
    "# Define device for torch\n",
    "use_cuda = True\n",
    "device = torch.device(\"cuda\" if (\n",
    "    use_cuda and torch.cuda.is_available()) else \"cpu\")\n",
    "print(device)"
   ]
  },
  {
   "attachments": {},
   "cell_type": "markdown",
   "metadata": {},
   "source": [
    "# Define options\n"
   ]
  },
  {
   "cell_type": "code",
   "execution_count": null,
   "metadata": {},
   "outputs": [],
   "source": [
    "EPOCH = 20\n",
    "LOAD_DATASET = False\n",
    "TRAIN_PATH = './PTB_train.pt'\n",
    "VALID_PATH = './PTB_valid.pt'\n",
    "TEST_PATH = './PTB_test.pt'\n",
    "SAVE_DIR = './model_saves/'\n",
    "BATCH_SIZE = 256"
   ]
  },
  {
   "cell_type": "markdown",
   "metadata": {},
   "source": [
    "# Loading the main dataset\n"
   ]
  },
  {
   "cell_type": "code",
   "execution_count": null,
   "metadata": {},
   "outputs": [],
   "source": [
    "if LOAD_DATASET:\n",
    "    train_loader = torch.load(TRAIN_PATH)\n",
    "    valid_loader = torch.load(VALID_PATH)\n",
    "    test_loader = torch.load(TEST_PATH)\n",
    "else:\n",
    "    path = './data/ptb-xl-a-large-publicly-available-electrocardiography-dataset-1.0.3/'\n",
    "\n",
    "    data, raw_labels = load_dataset(path)\n",
    "\n",
    "    labels = compute_label_agg(raw_labels, path)\n",
    "\n",
    "    data, labels, y = select_data(data, labels)\n",
    "\n",
    "    data, labels, y = undersample(data, labels, y)\n",
    "\n",
    "    train_loader, valid_loader, test_loader = get_data_loaders(\n",
    "        data, labels, y, BATCH_SIZE)\n",
    "\n",
    "    torch.save(train_loader, TRAIN_PATH)\n",
    "    torch.save(valid_loader, VALID_PATH)\n",
    "    torch.save(test_loader, TEST_PATH)"
   ]
  },
  {
   "cell_type": "markdown",
   "metadata": {},
   "source": [
    "# Loading the augmented data loaders"
   ]
  },
  {
   "cell_type": "code",
   "execution_count": null,
   "metadata": {},
   "outputs": [],
   "source": [
    "# train_loader_rn = torch.load('./trainloader_augmented_rn.pt')\n",
    "# valid_loader_rn = torch.load('./validloader_augmented_rn.pt')\n",
    "# test_loader_rm = torch.load('./testloader_augmented_rm.pt')\n",
    "\n",
    "train_loader_rn = torch.load('./trainloader_augmented_rn.pt')\n",
    "valid_loader_rn = torch.load('./validloader_augmented_rn.pt')\n",
    "test_loader_rn = torch.load('./testloader_augmented_rn.pt')"
   ]
  },
  {
   "cell_type": "markdown",
   "metadata": {},
   "source": [
    "# Combining the undersampled dataset with the Random Masking augmented dataset"
   ]
  },
  {
   "cell_type": "code",
   "execution_count": null,
   "metadata": {},
   "outputs": [],
   "source": [
    "combined_train_rn_ds = torch.utils.data.ConcatDataset([train_loader.dataset, train_loader_rn.dataset])\n",
    "combined_valid_rn_ds = torch.utils.data.ConcatDataset([valid_loader.dataset, valid_loader_rn.dataset])\n",
    "combined_test_rn_ds = torch.utils.data.ConcatDataset([test_loader.dataset, test_loader_rn.dataset])\n",
    "\n",
    "combined_rn_train_loader = torch.utils.data.DataLoader(combined_train_rn_ds, batch_size=BATCH_SIZE, shuffle=True)\n",
    "combined_rn_valid_loader = torch.utils.data.DataLoader(combined_valid_rn_ds, batch_size=BATCH_SIZE)\n",
    "combined_rn_test_loader = torch.utils.data.DataLoader(combined_test_rn_ds, batch_size=BATCH_SIZE)"
   ]
  },
  {
   "attachments": {},
   "cell_type": "markdown",
   "metadata": {},
   "source": [
    "# Training the model\n"
   ]
  },
  {
   "cell_type": "code",
   "execution_count": null,
   "metadata": {},
   "outputs": [],
   "source": [
    "SAVE_NAME =  f'CNN_undersampled_augmented_rn_epoch_{EPOCH}'\n",
    "\n",
    "model = CNN().to(device)\n",
    "lr = 0.0001\n",
    "\n",
    "train_accs, valid_accs, test_acc = trainer(model, combined_rn_train_loader, combined_rn_test_loader, combined_rn_valid_loader, lr = lr, num_epochs = EPOCH, save_dir=SAVE_DIR, model_save_name=SAVE_NAME)\n",
    "\n",
    "# model = train_RNN(EPOCH, train_loader, valid_loader, model,\n",
    "#                   criterion, optimizer, device=device, save_dir=SAVE_DIR, model_save_name=SAVE_NAME)"
   ]
  },
  {
   "attachments": {},
   "cell_type": "markdown",
   "metadata": {},
   "source": [
    "# Evaluate and plot losses\n"
   ]
  },
  {
   "cell_type": "code",
   "execution_count": null,
   "metadata": {},
   "outputs": [],
   "source": [
    "# test_accuracy = evaluate_RNN(model, test_loader)\n",
    "plot_losses(save_dir=SAVE_DIR, metrics_save_name=SAVE_NAME)\n",
    "rename_with_acc(SAVE_NAME, SAVE_DIR, test_acc)"
   ]
  },
  {
   "cell_type": "markdown",
   "metadata": {},
   "source": [
    "# Training the model\n"
   ]
  },
  {
   "cell_type": "code",
   "execution_count": null,
   "metadata": {},
   "outputs": [],
   "source": [
    "SAVE_NAME =  f'MMCNN_CAT_undersampled_augmented_rn_epoch_{EPOCH}'\n",
    "\n",
    "model = MMCNN_CAT().to(device)\n",
    "lr = 0.0001\n",
    "\n",
    "train_accs, valid_accs, test_acc = trainer(model, combined_rn_train_loader, combined_rn_test_loader, combined_rn_valid_loader, lr = lr, num_epochs = EPOCH, save_dir=SAVE_DIR, model_save_name=SAVE_NAME)\n",
    "\n",
    "# model = train_RNN(EPOCH, train_loader, valid_loader, model,\n",
    "#                   criterion, optimizer, device=device, save_dir=SAVE_DIR, model_save_name=SAVE_NAME)"
   ]
  },
  {
   "cell_type": "markdown",
   "metadata": {},
   "source": [
    "# Evaluate and plot losses\n"
   ]
  },
  {
   "cell_type": "code",
   "execution_count": null,
   "metadata": {},
   "outputs": [],
   "source": [
    "# test_accuracy = evaluate_RNN(model, test_loader)\n",
    "plot_losses(save_dir=SAVE_DIR, metrics_save_name=SAVE_NAME)\n",
    "rename_with_acc(SAVE_NAME, SAVE_DIR, test_acc)"
   ]
  },
  {
   "cell_type": "markdown",
   "metadata": {},
   "source": [
    "# Training the model\n"
   ]
  },
  {
   "cell_type": "code",
   "execution_count": null,
   "metadata": {},
   "outputs": [],
   "source": [
    "SAVE_NAME =  f'MMCNN_ATT_undersampled_augmented_rn_epoch_{EPOCH}'\n",
    "\n",
    "model = MMCNN_ATT().to(device)\n",
    "lr = 0.0001\n",
    "\n",
    "train_accs, valid_accs, test_acc = trainer(model, combined_rn_train_loader, combined_rn_test_loader, combined_rn_valid_loader, lr = lr, num_epochs = EPOCH, save_dir=SAVE_DIR, model_save_name=SAVE_NAME)\n",
    "\n",
    "# model = train_RNN(EPOCH, train_loader, valid_loader, model,\n",
    "#                   criterion, optimizer, device=device, save_dir=SAVE_DIR, model_save_name=SAVE_NAME)"
   ]
  },
  {
   "cell_type": "markdown",
   "metadata": {},
   "source": [
    "# Evaluate and plot losses\n"
   ]
  },
  {
   "cell_type": "code",
   "execution_count": null,
   "metadata": {},
   "outputs": [],
   "source": [
    "# test_accuracy = evaluate_RNN(model, test_loader)\n",
    "plot_losses(save_dir=SAVE_DIR, metrics_save_name=SAVE_NAME)\n",
    "rename_with_acc(SAVE_NAME, SAVE_DIR, test_acc)"
   ]
  },
  {
   "cell_type": "markdown",
   "metadata": {},
   "source": [
    "# Training the model\n"
   ]
  },
  {
   "cell_type": "code",
   "execution_count": null,
   "metadata": {},
   "outputs": [],
   "source": [
    "SAVE_NAME =  f'MMCNN_SUM_Dropout_batchnorn_undersampled_augmented_rn_epoch_{EPOCH}'\n",
    "\n",
    "model = MMCNN_SUM().to(device)\n",
    "lr = 0.0001\n",
    "\n",
    "train_accs, valid_accs, test_acc = trainer(model, combined_rn_train_loader, combined_rn_test_loader, combined_rn_valid_loader, lr = lr, num_epochs = EPOCH, save_dir=SAVE_DIR, model_save_name=SAVE_NAME)\n",
    "\n",
    "# model = train_RNN(EPOCH, train_loader, valid_loader, model,\n",
    "#                   criterion, optimizer, device=device, save_dir=SAVE_DIR, model_save_name=SAVE_NAME)"
   ]
  },
  {
   "cell_type": "markdown",
   "metadata": {},
   "source": [
    "# Evaluate and plot losses\n"
   ]
  },
  {
   "cell_type": "code",
   "execution_count": null,
   "metadata": {},
   "outputs": [],
   "source": [
    "# test_accuracy = evaluate_RNN(model, test_loader)\n",
    "plot_losses(save_dir=SAVE_DIR, metrics_save_name=SAVE_NAME)\n",
    "rename_with_acc(SAVE_NAME, SAVE_DIR, test_acc)"
   ]
  },
  {
   "cell_type": "markdown",
   "metadata": {},
   "source": [
    "# Training the model\n"
   ]
  },
  {
   "cell_type": "code",
   "execution_count": null,
   "metadata": {},
   "outputs": [],
   "source": [
    "SAVE_NAME =  f'MMCNN_SUM_ATT_undersampled_augmented_rn_epoch_{EPOCH}'\n",
    "\n",
    "model = MMCNN_SUM_ATT().to(device)\n",
    "lr = 0.0001\n",
    "\n",
    "train_accs, valid_accs, test_acc = trainer(model, combined_rn_train_loader, combined_rn_test_loader, combined_rn_valid_loader, lr = lr, num_epochs = EPOCH, save_dir=SAVE_DIR, model_save_name=SAVE_NAME)\n",
    "\n",
    "# model = train_RNN(EPOCH, train_loader, valid_loader, model,\n",
    "#                   criterion, optimizer, device=device, save_dir=SAVE_DIR, model_save_name=SAVE_NAME)"
   ]
  },
  {
   "cell_type": "markdown",
   "metadata": {},
   "source": [
    "# Evaluate and plot losses\n"
   ]
  },
  {
   "cell_type": "code",
   "execution_count": null,
   "metadata": {},
   "outputs": [],
   "source": [
    "# test_accuracy = evaluate_RNN(model, test_loader)\n",
    "plot_losses(save_dir=SAVE_DIR, metrics_save_name=SAVE_NAME)\n",
    "rename_with_acc(SAVE_NAME, SAVE_DIR, test_acc)"
   ]
  }
 ],
 "metadata": {
  "kernelspec": {
   "display_name": "Python 3",
   "language": "python",
   "name": "python3"
  },
  "language_info": {
   "codemirror_mode": {
    "name": "ipython",
    "version": 3
   },
   "file_extension": ".py",
   "mimetype": "text/x-python",
   "name": "python",
   "nbconvert_exporter": "python",
   "pygments_lexer": "ipython3",
   "version": "3.9.15"
  },
  "orig_nbformat": 4
 },
 "nbformat": 4,
 "nbformat_minor": 2
}
