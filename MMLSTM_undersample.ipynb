{
 "cells": [
  {
   "cell_type": "code",
   "execution_count": 1,
   "metadata": {},
   "outputs": [
    {
     "name": "stderr",
     "output_type": "stream",
     "text": [
      "d:\\SUTD\\T6\\DL Project\\Deep_Learning_ECGclassification\\utils\\RNN_utils.py:3: TqdmExperimentalWarning: Using `tqdm.autonotebook.tqdm` in notebook mode. Use `tqdm.tqdm` instead to force console mode (e.g. in jupyter console)\n",
      "  from tqdm.autonotebook import tqdm\n"
     ]
    }
   ],
   "source": [
    "from preprocess.preprocess import load_dataset, compute_label_agg, select_data, get_data_loaders, undersample\n",
    "\n",
    "import torch\n",
    "import torch.nn as nn\n",
    "import matplotlib.pyplot as plt\n",
    "import torch.optim as optim\n",
    "\n",
    "from models.RNN import MMRNN\n",
    "from utils.RNN_utils import *"
   ]
  },
  {
   "cell_type": "code",
   "execution_count": 2,
   "metadata": {},
   "outputs": [
    {
     "name": "stdout",
     "output_type": "stream",
     "text": [
      "CUDA is available: True\n"
     ]
    }
   ],
   "source": [
    "# Define device for torch\n",
    "use_cuda = True\n",
    "print(\"CUDA is available:\", torch.cuda.is_available())\n",
    "device = torch.device(\"cuda\" if (\n",
    "    use_cuda and torch.cuda.is_available()) else \"cpu\")"
   ]
  },
  {
   "attachments": {},
   "cell_type": "markdown",
   "metadata": {},
   "source": [
    "# Set options\n"
   ]
  },
  {
   "cell_type": "code",
   "execution_count": 3,
   "metadata": {},
   "outputs": [
    {
     "data": {
      "text/plain": [
       "<torch._C.Generator at 0x1c7eb1cd130>"
      ]
     },
     "execution_count": 3,
     "metadata": {},
     "output_type": "execute_result"
    }
   ],
   "source": [
    "LOAD_DATASET = False\n",
    "TRAIN_PATH = './PTB_train_undersampled.pt'\n",
    "VALID_PATH = './PTB_valid_undersampled.pt'\n",
    "TEST_PATH = './PTB_test_undersampled.pt'\n",
    "SAVE_NAME = 'MMRNN_undersampled_epoch_30'\n",
    "SAVE_DIR = './model_saves/'\n",
    "BATCH_SIZE = 256\n",
    "\n",
    "EPOCH = 30\n",
    "\n",
    "torch.manual_seed(0)\n"
   ]
  },
  {
   "attachments": {},
   "cell_type": "markdown",
   "metadata": {},
   "source": [
    "# Load the dataset\n"
   ]
  },
  {
   "cell_type": "code",
   "execution_count": 4,
   "metadata": {},
   "outputs": [],
   "source": [
    "if LOAD_DATASET:\n",
    "    train_loader = torch.load(TRAIN_PATH)\n",
    "    valid_loader = torch.load(VALID_PATH)\n",
    "    test_loader = torch.load(TEST_PATH)\n",
    "else:\n",
    "    path = './data/ptb-xl-a-large-publicly-available-electrocardiography-dataset-1.0.3/'\n",
    "\n",
    "    data, raw_labels = load_dataset(path)\n",
    "\n",
    "    labels = compute_label_agg(raw_labels, path)\n",
    "\n",
    "    data, labels, y = select_data(data, labels)\n",
    "\n",
    "    data, labels, y = undersample(data, labels, y)\n",
    "\n",
    "    train_loader, valid_loader, test_loader = get_data_loaders(\n",
    "        data, labels, y, BATCH_SIZE)\n",
    "\n",
    "    torch.save(train_loader, TRAIN_PATH)\n",
    "    torch.save(valid_loader, VALID_PATH)\n",
    "    torch.save(test_loader, TEST_PATH)"
   ]
  },
  {
   "attachments": {},
   "cell_type": "markdown",
   "metadata": {},
   "source": [
    "# Train the model\n"
   ]
  },
  {
   "cell_type": "code",
   "execution_count": 5,
   "metadata": {},
   "outputs": [
    {
     "data": {
      "application/vnd.jupyter.widget-view+json": {
       "model_id": "b1c103ecbf4d48998bf86f74c44b70bb",
       "version_major": 2,
       "version_minor": 0
      },
      "text/plain": [
       "  0%|          | 0/30 [00:00<?, ?it/s]"
      ]
     },
     "metadata": {},
     "output_type": "display_data"
    },
    {
     "name": "stdout",
     "output_type": "stream",
     "text": [
      "Epoch: [1/30], Step [3584/417150] | Train Loss:  1.023         | Train Accuracy:  0.401         | Val Loss:  0.507         | Val Accuracy:  0.562\n",
      "Model saved to ==> ./model_saves/model_MMRNN_undersampled_epoch_30.pt\n",
      "Epoch: [1/30], Step [7168/417150] | Train Loss:  0.756         | Train Accuracy:  0.503         | Val Loss:  0.454         | Val Accuracy:  0.639\n",
      "Model saved to ==> ./model_saves/model_MMRNN_undersampled_epoch_30.pt\n",
      "Epoch: [1/30], Step [10496/417150] | Train Loss:  0.646         | Train Accuracy:  0.569         | Val Loss:  0.399         | Val Accuracy:  0.711\n",
      "Model saved to ==> ./model_saves/model_MMRNN_undersampled_epoch_30.pt\n",
      "Epoch: [1/30], Step [13905/417150] | Train Loss:  0.579         | Train Accuracy:  0.617         | Val Loss:  0.382         | Val Accuracy:  0.714\n",
      "Model saved to ==> ./model_saves/model_MMRNN_undersampled_epoch_30.pt\n",
      "Epoch: [2/30], Step [17489/417150] | Train Loss:  0.352         | Train Accuracy:  0.777         | Val Loss:  0.376         | Val Accuracy:  0.751\n",
      "Model saved to ==> ./model_saves/model_MMRNN_undersampled_epoch_30.pt\n",
      "Epoch: [2/30], Step [21073/417150] | Train Loss:  0.342         | Train Accuracy:  0.794         | Val Loss:  0.358         | Val Accuracy:  0.776\n",
      "Model saved to ==> ./model_saves/model_MMRNN_undersampled_epoch_30.pt\n",
      "Epoch: [2/30], Step [24401/417150] | Train Loss:  0.337         | Train Accuracy:  0.797         | Val Loss:  0.352         | Val Accuracy:  0.775\n",
      "Model saved to ==> ./model_saves/model_MMRNN_undersampled_epoch_30.pt\n",
      "Epoch: [2/30], Step [27810/417150] | Train Loss:  0.336         | Train Accuracy:  0.802         | Val Loss:  0.364         | Val Accuracy:  0.748\n",
      "Epoch: [3/30], Step [31394/417150] | Train Loss:  0.327         | Train Accuracy:  0.819         | Val Loss:  0.339         | Val Accuracy:  0.793\n",
      "Model saved to ==> ./model_saves/model_MMRNN_undersampled_epoch_30.pt\n",
      "Epoch: [3/30], Step [34978/417150] | Train Loss:  0.320         | Train Accuracy:  0.818         | Val Loss:  0.341         | Val Accuracy:  0.804\n",
      "Epoch: [3/30], Step [38306/417150] | Train Loss:  0.317         | Train Accuracy:  0.819         | Val Loss:  0.349         | Val Accuracy:  0.801\n",
      "Epoch: [3/30], Step [41715/417150] | Train Loss:  0.316         | Train Accuracy:  0.824         | Val Loss:  0.342         | Val Accuracy:  0.798\n",
      "Epoch: [4/30], Step [45299/417150] | Train Loss:  0.307         | Train Accuracy:  0.831         | Val Loss:  0.340         | Val Accuracy:  0.790\n",
      "Epoch: [4/30], Step [48883/417150] | Train Loss:  0.305         | Train Accuracy:  0.835         | Val Loss:  0.352         | Val Accuracy:  0.758\n",
      "Epoch: [4/30], Step [52211/417150] | Train Loss:  0.309         | Train Accuracy:  0.830         | Val Loss:  0.333         | Val Accuracy:  0.808\n",
      "Model saved to ==> ./model_saves/model_MMRNN_undersampled_epoch_30.pt\n",
      "Epoch: [4/30], Step [55620/417150] | Train Loss:  0.307         | Train Accuracy:  0.833         | Val Loss:  0.346         | Val Accuracy:  0.803\n",
      "Epoch: [5/30], Step [59204/417150] | Train Loss:  0.301         | Train Accuracy:  0.841         | Val Loss:  0.322         | Val Accuracy:  0.820\n",
      "Model saved to ==> ./model_saves/model_MMRNN_undersampled_epoch_30.pt\n",
      "Epoch: [5/30], Step [62788/417150] | Train Loss:  0.301         | Train Accuracy:  0.840         | Val Loss:  0.323         | Val Accuracy:  0.807\n",
      "Epoch: [5/30], Step [66116/417150] | Train Loss:  0.302         | Train Accuracy:  0.835         | Val Loss:  0.336         | Val Accuracy:  0.799\n",
      "Epoch: [5/30], Step [69525/417150] | Train Loss:  0.303         | Train Accuracy:  0.836         | Val Loss:  0.336         | Val Accuracy:  0.793\n",
      "Epoch: [6/30], Step [73109/417150] | Train Loss:  0.290         | Train Accuracy:  0.850         | Val Loss:  0.325         | Val Accuracy:  0.808\n",
      "Epoch: [6/30], Step [76693/417150] | Train Loss:  0.293         | Train Accuracy:  0.845         | Val Loss:  0.316         | Val Accuracy:  0.819\n",
      "Model saved to ==> ./model_saves/model_MMRNN_undersampled_epoch_30.pt\n",
      "Epoch: [6/30], Step [80021/417150] | Train Loss:  0.292         | Train Accuracy:  0.846         | Val Loss:  0.322         | Val Accuracy:  0.813\n",
      "Epoch: [6/30], Step [83430/417150] | Train Loss:  0.292         | Train Accuracy:  0.848         | Val Loss:  0.312         | Val Accuracy:  0.823\n",
      "Model saved to ==> ./model_saves/model_MMRNN_undersampled_epoch_30.pt\n",
      "Epoch: [7/30], Step [87014/417150] | Train Loss:  0.277         | Train Accuracy:  0.857         | Val Loss:  0.314         | Val Accuracy:  0.820\n",
      "Epoch: [7/30], Step [90598/417150] | Train Loss:  0.278         | Train Accuracy:  0.857         | Val Loss:  0.314         | Val Accuracy:  0.819\n",
      "Epoch: [7/30], Step [93926/417150] | Train Loss:  0.280         | Train Accuracy:  0.853         | Val Loss:  0.310         | Val Accuracy:  0.836\n",
      "Model saved to ==> ./model_saves/model_MMRNN_undersampled_epoch_30.pt\n",
      "Epoch: [7/30], Step [97335/417150] | Train Loss:  0.281         | Train Accuracy:  0.853         | Val Loss:  0.317         | Val Accuracy:  0.812\n",
      "Epoch: [8/30], Step [100919/417150] | Train Loss:  0.282         | Train Accuracy:  0.865         | Val Loss:  0.327         | Val Accuracy:  0.824\n",
      "Epoch: [8/30], Step [104503/417150] | Train Loss:  0.285         | Train Accuracy:  0.857         | Val Loss:  0.308         | Val Accuracy:  0.826\n",
      "Model saved to ==> ./model_saves/model_MMRNN_undersampled_epoch_30.pt\n",
      "Epoch: [8/30], Step [107831/417150] | Train Loss:  0.286         | Train Accuracy:  0.854         | Val Loss:  0.316         | Val Accuracy:  0.815\n",
      "Epoch: [8/30], Step [111240/417150] | Train Loss:  0.287         | Train Accuracy:  0.851         | Val Loss:  0.310         | Val Accuracy:  0.829\n",
      "Epoch: [9/30], Step [114824/417150] | Train Loss:  0.288         | Train Accuracy:  0.849         | Val Loss:  0.309         | Val Accuracy:  0.823\n",
      "Epoch: [9/30], Step [118408/417150] | Train Loss:  0.283         | Train Accuracy:  0.854         | Val Loss:  0.313         | Val Accuracy:  0.822\n",
      "Epoch: [9/30], Step [121736/417150] | Train Loss:  0.282         | Train Accuracy:  0.854         | Val Loss:  0.309         | Val Accuracy:  0.822\n",
      "Epoch: [9/30], Step [125145/417150] | Train Loss:  0.284         | Train Accuracy:  0.852         | Val Loss:  0.314         | Val Accuracy:  0.822\n",
      "Epoch: [10/30], Step [128729/417150] | Train Loss:  0.283         | Train Accuracy:  0.851         | Val Loss:  0.313         | Val Accuracy:  0.823\n",
      "Epoch: [10/30], Step [132313/417150] | Train Loss:  0.278         | Train Accuracy:  0.855         | Val Loss:  0.306         | Val Accuracy:  0.835\n",
      "Model saved to ==> ./model_saves/model_MMRNN_undersampled_epoch_30.pt\n",
      "Epoch: [10/30], Step [135641/417150] | Train Loss:  0.278         | Train Accuracy:  0.854         | Val Loss:  0.305         | Val Accuracy:  0.826\n",
      "Model saved to ==> ./model_saves/model_MMRNN_undersampled_epoch_30.pt\n",
      "Epoch: [10/30], Step [139050/417150] | Train Loss:  0.275         | Train Accuracy:  0.856         | Val Loss:  0.302         | Val Accuracy:  0.831\n",
      "Model saved to ==> ./model_saves/model_MMRNN_undersampled_epoch_30.pt\n",
      "Epoch: [11/30], Step [142634/417150] | Train Loss:  0.276         | Train Accuracy:  0.856         | Val Loss:  0.304         | Val Accuracy:  0.833\n",
      "Epoch: [11/30], Step [146218/417150] | Train Loss:  0.271         | Train Accuracy:  0.862         | Val Loss:  0.308         | Val Accuracy:  0.823\n",
      "Epoch: [11/30], Step [149546/417150] | Train Loss:  0.273         | Train Accuracy:  0.860         | Val Loss:  0.305         | Val Accuracy:  0.832\n",
      "Epoch: [11/30], Step [152955/417150] | Train Loss:  0.275         | Train Accuracy:  0.858         | Val Loss:  0.302         | Val Accuracy:  0.833\n",
      "Epoch: [12/30], Step [156539/417150] | Train Loss:  0.267         | Train Accuracy:  0.865         | Val Loss:  0.299         | Val Accuracy:  0.831\n",
      "Model saved to ==> ./model_saves/model_MMRNN_undersampled_epoch_30.pt\n",
      "Epoch: [12/30], Step [160123/417150] | Train Loss:  0.265         | Train Accuracy:  0.865         | Val Loss:  0.303         | Val Accuracy:  0.832\n",
      "Epoch: [12/30], Step [163451/417150] | Train Loss:  0.267         | Train Accuracy:  0.862         | Val Loss:  0.306         | Val Accuracy:  0.816\n",
      "Epoch: [12/30], Step [166860/417150] | Train Loss:  0.269         | Train Accuracy:  0.859         | Val Loss:  0.312         | Val Accuracy:  0.827\n",
      "Epoch: [13/30], Step [170444/417150] | Train Loss:  0.272         | Train Accuracy:  0.857         | Val Loss:  0.299         | Val Accuracy:  0.829\n",
      "Model saved to ==> ./model_saves/model_MMRNN_undersampled_epoch_30.pt\n",
      "Epoch: [13/30], Step [174028/417150] | Train Loss:  0.268         | Train Accuracy:  0.863         | Val Loss:  0.299         | Val Accuracy:  0.835\n",
      "Model saved to ==> ./model_saves/model_MMRNN_undersampled_epoch_30.pt\n",
      "Epoch: [13/30], Step [177356/417150] | Train Loss:  0.267         | Train Accuracy:  0.862         | Val Loss:  0.307         | Val Accuracy:  0.822\n",
      "Epoch: [13/30], Step [180765/417150] | Train Loss:  0.265         | Train Accuracy:  0.863         | Val Loss:  0.299         | Val Accuracy:  0.834\n",
      "Epoch: [14/30], Step [184349/417150] | Train Loss:  0.265         | Train Accuracy:  0.854         | Val Loss:  0.299         | Val Accuracy:  0.837\n",
      "Epoch: [14/30], Step [187933/417150] | Train Loss:  0.260         | Train Accuracy:  0.862         | Val Loss:  0.305         | Val Accuracy:  0.831\n",
      "Epoch: [14/30], Step [191261/417150] | Train Loss:  0.262         | Train Accuracy:  0.862         | Val Loss:  0.298         | Val Accuracy:  0.829\n",
      "Model saved to ==> ./model_saves/model_MMRNN_undersampled_epoch_30.pt\n",
      "Epoch: [14/30], Step [194670/417150] | Train Loss:  0.263         | Train Accuracy:  0.864         | Val Loss:  0.303         | Val Accuracy:  0.831\n",
      "Epoch: [15/30], Step [198254/417150] | Train Loss:  0.267         | Train Accuracy:  0.861         | Val Loss:  0.312         | Val Accuracy:  0.815\n",
      "Epoch: [15/30], Step [201838/417150] | Train Loss:  0.270         | Train Accuracy:  0.859         | Val Loss:  0.301         | Val Accuracy:  0.836\n",
      "Epoch: [15/30], Step [205166/417150] | Train Loss:  0.270         | Train Accuracy:  0.858         | Val Loss:  0.308         | Val Accuracy:  0.826\n",
      "Epoch: [15/30], Step [208575/417150] | Train Loss:  0.269         | Train Accuracy:  0.861         | Val Loss:  0.301         | Val Accuracy:  0.831\n",
      "Epoch: [16/30], Step [212159/417150] | Train Loss:  0.260         | Train Accuracy:  0.861         | Val Loss:  0.299         | Val Accuracy:  0.834\n",
      "Epoch: [16/30], Step [215743/417150] | Train Loss:  0.256         | Train Accuracy:  0.864         | Val Loss:  0.294         | Val Accuracy:  0.836\n",
      "Model saved to ==> ./model_saves/model_MMRNN_undersampled_epoch_30.pt\n",
      "Epoch: [16/30], Step [219071/417150] | Train Loss:  0.257         | Train Accuracy:  0.867         | Val Loss:  0.295         | Val Accuracy:  0.833\n",
      "Epoch: [16/30], Step [222480/417150] | Train Loss:  0.257         | Train Accuracy:  0.867         | Val Loss:  0.293         | Val Accuracy:  0.836\n",
      "Model saved to ==> ./model_saves/model_MMRNN_undersampled_epoch_30.pt\n",
      "Epoch: [17/30], Step [226064/417150] | Train Loss:  0.254         | Train Accuracy:  0.870         | Val Loss:  0.291         | Val Accuracy:  0.833\n",
      "Model saved to ==> ./model_saves/model_MMRNN_undersampled_epoch_30.pt\n",
      "Epoch: [17/30], Step [229648/417150] | Train Loss:  0.256         | Train Accuracy:  0.867         | Val Loss:  0.296         | Val Accuracy:  0.835\n",
      "Epoch: [17/30], Step [232976/417150] | Train Loss:  0.259         | Train Accuracy:  0.865         | Val Loss:  0.300         | Val Accuracy:  0.827\n",
      "Epoch: [17/30], Step [236385/417150] | Train Loss:  0.256         | Train Accuracy:  0.867         | Val Loss:  0.297         | Val Accuracy:  0.829\n",
      "Epoch: [18/30], Step [239969/417150] | Train Loss:  0.255         | Train Accuracy:  0.869         | Val Loss:  0.292         | Val Accuracy:  0.837\n",
      "Epoch: [18/30], Step [243553/417150] | Train Loss:  0.256         | Train Accuracy:  0.868         | Val Loss:  0.298         | Val Accuracy:  0.839\n",
      "Epoch: [18/30], Step [246881/417150] | Train Loss:  0.258         | Train Accuracy:  0.866         | Val Loss:  0.295         | Val Accuracy:  0.837\n",
      "Epoch: [18/30], Step [250290/417150] | Train Loss:  0.256         | Train Accuracy:  0.868         | Val Loss:  0.294         | Val Accuracy:  0.831\n",
      "Epoch: [19/30], Step [253874/417150] | Train Loss:  0.251         | Train Accuracy:  0.875         | Val Loss:  0.288         | Val Accuracy:  0.840\n",
      "Model saved to ==> ./model_saves/model_MMRNN_undersampled_epoch_30.pt\n",
      "Epoch: [19/30], Step [257458/417150] | Train Loss:  0.250         | Train Accuracy:  0.871         | Val Loss:  0.285         | Val Accuracy:  0.843\n",
      "Model saved to ==> ./model_saves/model_MMRNN_undersampled_epoch_30.pt\n",
      "Epoch: [19/30], Step [260786/417150] | Train Loss:  0.253         | Train Accuracy:  0.871         | Val Loss:  0.299         | Val Accuracy:  0.838\n",
      "Epoch: [19/30], Step [264195/417150] | Train Loss:  0.256         | Train Accuracy:  0.868         | Val Loss:  0.316         | Val Accuracy:  0.822\n",
      "Epoch: [20/30], Step [267779/417150] | Train Loss:  0.259         | Train Accuracy:  0.866         | Val Loss:  0.294         | Val Accuracy:  0.843\n",
      "Epoch: [20/30], Step [271363/417150] | Train Loss:  0.258         | Train Accuracy:  0.867         | Val Loss:  0.300         | Val Accuracy:  0.843\n",
      "Epoch: [20/30], Step [274691/417150] | Train Loss:  0.255         | Train Accuracy:  0.869         | Val Loss:  0.290         | Val Accuracy:  0.844\n",
      "Epoch: [20/30], Step [278100/417150] | Train Loss:  0.255         | Train Accuracy:  0.871         | Val Loss:  0.292         | Val Accuracy:  0.843\n",
      "Epoch: [21/30], Step [281684/417150] | Train Loss:  0.252         | Train Accuracy:  0.867         | Val Loss:  0.294         | Val Accuracy:  0.840\n",
      "Epoch: [21/30], Step [285268/417150] | Train Loss:  0.253         | Train Accuracy:  0.874         | Val Loss:  0.292         | Val Accuracy:  0.846\n",
      "Epoch: [21/30], Step [288596/417150] | Train Loss:  0.252         | Train Accuracy:  0.873         | Val Loss:  0.286         | Val Accuracy:  0.838\n",
      "Epoch: [21/30], Step [292005/417150] | Train Loss:  0.249         | Train Accuracy:  0.874         | Val Loss:  0.291         | Val Accuracy:  0.844\n",
      "Epoch: [22/30], Step [295589/417150] | Train Loss:  0.251         | Train Accuracy:  0.875         | Val Loss:  0.297         | Val Accuracy:  0.844\n",
      "Epoch: [22/30], Step [299173/417150] | Train Loss:  0.252         | Train Accuracy:  0.877         | Val Loss:  0.304         | Val Accuracy:  0.831\n",
      "Epoch: [22/30], Step [302501/417150] | Train Loss:  0.250         | Train Accuracy:  0.876         | Val Loss:  0.292         | Val Accuracy:  0.838\n",
      "Epoch: [22/30], Step [305910/417150] | Train Loss:  0.250         | Train Accuracy:  0.876         | Val Loss:  0.284         | Val Accuracy:  0.843\n",
      "Model saved to ==> ./model_saves/model_MMRNN_undersampled_epoch_30.pt\n",
      "Epoch: [23/30], Step [309494/417150] | Train Loss:  0.244         | Train Accuracy:  0.881         | Val Loss:  0.297         | Val Accuracy:  0.835\n",
      "Epoch: [23/30], Step [313078/417150] | Train Loss:  0.249         | Train Accuracy:  0.879         | Val Loss:  0.288         | Val Accuracy:  0.838\n",
      "Epoch: [23/30], Step [316406/417150] | Train Loss:  0.246         | Train Accuracy:  0.879         | Val Loss:  0.288         | Val Accuracy:  0.845\n",
      "Epoch: [23/30], Step [319815/417150] | Train Loss:  0.247         | Train Accuracy:  0.877         | Val Loss:  0.297         | Val Accuracy:  0.835\n",
      "Epoch: [24/30], Step [323399/417150] | Train Loss:  0.239         | Train Accuracy:  0.886         | Val Loss:  0.290         | Val Accuracy:  0.850\n",
      "Epoch: [24/30], Step [326983/417150] | Train Loss:  0.241         | Train Accuracy:  0.881         | Val Loss:  0.286         | Val Accuracy:  0.845\n",
      "Epoch: [24/30], Step [330311/417150] | Train Loss:  0.241         | Train Accuracy:  0.882         | Val Loss:  0.287         | Val Accuracy:  0.837\n",
      "Epoch: [24/30], Step [333720/417150] | Train Loss:  0.245         | Train Accuracy:  0.879         | Val Loss:  0.298         | Val Accuracy:  0.831\n",
      "Epoch: [25/30], Step [337304/417150] | Train Loss:  0.253         | Train Accuracy:  0.878         | Val Loss:  0.293         | Val Accuracy:  0.845\n",
      "Epoch: [25/30], Step [340888/417150] | Train Loss:  0.250         | Train Accuracy:  0.875         | Val Loss:  0.310         | Val Accuracy:  0.839\n",
      "Epoch: [25/30], Step [344216/417150] | Train Loss:  0.249         | Train Accuracy:  0.875         | Val Loss:  0.288         | Val Accuracy:  0.844\n",
      "Epoch: [25/30], Step [347625/417150] | Train Loss:  0.249         | Train Accuracy:  0.875         | Val Loss:  0.286         | Val Accuracy:  0.844\n",
      "Epoch: [26/30], Step [351209/417150] | Train Loss:  0.245         | Train Accuracy:  0.878         | Val Loss:  0.290         | Val Accuracy:  0.848\n",
      "Epoch: [26/30], Step [354793/417150] | Train Loss:  0.245         | Train Accuracy:  0.878         | Val Loss:  0.278         | Val Accuracy:  0.850\n",
      "Model saved to ==> ./model_saves/model_MMRNN_undersampled_epoch_30.pt\n",
      "Epoch: [26/30], Step [358121/417150] | Train Loss:  0.243         | Train Accuracy:  0.879         | Val Loss:  0.283         | Val Accuracy:  0.842\n",
      "Epoch: [26/30], Step [361530/417150] | Train Loss:  0.245         | Train Accuracy:  0.879         | Val Loss:  0.296         | Val Accuracy:  0.838\n",
      "Epoch: [27/30], Step [365114/417150] | Train Loss:  0.244         | Train Accuracy:  0.880         | Val Loss:  0.286         | Val Accuracy:  0.844\n",
      "Epoch: [27/30], Step [368698/417150] | Train Loss:  0.245         | Train Accuracy:  0.875         | Val Loss:  0.294         | Val Accuracy:  0.844\n",
      "Epoch: [27/30], Step [372026/417150] | Train Loss:  0.240         | Train Accuracy:  0.878         | Val Loss:  0.283         | Val Accuracy:  0.847\n",
      "Epoch: [27/30], Step [375435/417150] | Train Loss:  0.242         | Train Accuracy:  0.880         | Val Loss:  0.286         | Val Accuracy:  0.843\n",
      "Epoch: [28/30], Step [379019/417150] | Train Loss:  0.245         | Train Accuracy:  0.874         | Val Loss:  0.288         | Val Accuracy:  0.851\n",
      "Epoch: [28/30], Step [382603/417150] | Train Loss:  0.243         | Train Accuracy:  0.881         | Val Loss:  0.288         | Val Accuracy:  0.846\n",
      "Epoch: [28/30], Step [385931/417150] | Train Loss:  0.243         | Train Accuracy:  0.881         | Val Loss:  0.283         | Val Accuracy:  0.848\n",
      "Epoch: [28/30], Step [389340/417150] | Train Loss:  0.243         | Train Accuracy:  0.879         | Val Loss:  0.287         | Val Accuracy:  0.846\n",
      "Epoch: [29/30], Step [392924/417150] | Train Loss:  0.243         | Train Accuracy:  0.879         | Val Loss:  0.287         | Val Accuracy:  0.853\n",
      "Epoch: [29/30], Step [396508/417150] | Train Loss:  0.238         | Train Accuracy:  0.880         | Val Loss:  0.291         | Val Accuracy:  0.843\n",
      "Epoch: [29/30], Step [399836/417150] | Train Loss:  0.237         | Train Accuracy:  0.885         | Val Loss:  0.293         | Val Accuracy:  0.839\n",
      "Epoch: [29/30], Step [403245/417150] | Train Loss:  0.239         | Train Accuracy:  0.885         | Val Loss:  0.288         | Val Accuracy:  0.848\n",
      "Epoch: [30/30], Step [406829/417150] | Train Loss:  0.235         | Train Accuracy:  0.895         | Val Loss:  0.284         | Val Accuracy:  0.853\n",
      "Epoch: [30/30], Step [410413/417150] | Train Loss:  0.234         | Train Accuracy:  0.890         | Val Loss:  0.292         | Val Accuracy:  0.844\n",
      "Epoch: [30/30], Step [413741/417150] | Train Loss:  0.238         | Train Accuracy:  0.888         | Val Loss:  0.290         | Val Accuracy:  0.847\n",
      "Epoch: [30/30], Step [417150/417150] | Train Loss:  0.240         | Train Accuracy:  0.885         | Val Loss:  0.292         | Val Accuracy:  0.841\n",
      "Training complete.\n"
     ]
    }
   ],
   "source": [
    "\n",
    "model = MMRNN().to(device)\n",
    "optimizer = optim.Adam(model.parameters(), lr=1e-2)\n",
    "criterion = nn.BCEWithLogitsLoss()\n",
    "\n",
    "model = train_RNN(EPOCH, train_loader, valid_loader, model,\n",
    "                  criterion, optimizer, device=device, save_dir=SAVE_DIR, model_save_name=SAVE_NAME)"
   ]
  },
  {
   "attachments": {},
   "cell_type": "markdown",
   "metadata": {},
   "source": [
    "# Evaluate and plot losses\n"
   ]
  },
  {
   "cell_type": "code",
   "execution_count": 6,
   "metadata": {},
   "outputs": [
    {
     "name": "stdout",
     "output_type": "stream",
     "text": [
      "Test Accuracy:  0.831\n"
     ]
    },
    {
     "data": {
      "image/png": "[encoded data removed]",
      "text/plain": [
       "<Figure size 640x480 with 1 Axes>"
      ]
     },
     "metadata": {},
     "output_type": "display_data"
    }
   ],
   "source": [
    "test_accuracy = evaluate_RNN(model, test_loader)\n",
    "plot_losses(metrics_save_name=SAVE_NAME, save_dir=SAVE_DIR)\n",
    "rename_with_acc(SAVE_NAME, SAVE_DIR, test_accuracy)\n"
   ]
  }
 ],
 "metadata": {
  "kernelspec": {
   "display_name": "Python 3",
   "language": "python",
   "name": "python3"
  },
  "language_info": {
   "codemirror_mode": {
    "name": "ipython",
    "version": 3
   },
   "file_extension": ".py",
   "mimetype": "text/x-python",
   "name": "python",
   "nbconvert_exporter": "python",
   "pygments_lexer": "ipython3",
   "version": "3.10.5"
  },
  "orig_nbformat": 4
 },
 "nbformat": 4,
 "nbformat_minor": 2
}
