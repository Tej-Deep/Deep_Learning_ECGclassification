{
 "cells": [
  {
   "cell_type": "code",
   "execution_count": 1,
   "metadata": {},
   "outputs": [],
   "source": [
    "from preprocess.preprocess import load_dataset, compute_label_agg, select_data, get_data_loaders\n",
    "\n",
    "import torch\n",
    "import torch.nn as nn\n",
    "import matplotlib.pyplot as plt\n",
    "import torch.optim as optim\n",
    "\n",
    "from models.RNN import MMRNN\n",
    "from utils.RNN_utils import *"
   ]
  },
  {
   "cell_type": "code",
   "execution_count": 2,
   "metadata": {},
   "outputs": [
    {
     "name": "stdout",
     "output_type": "stream",
     "text": [
      "CUDA is available: True\n"
     ]
    }
   ],
   "source": [
    "# Define device for torch\n",
    "use_cuda = True\n",
    "print(\"CUDA is available:\", torch.cuda.is_available())\n",
    "device = torch.device(\"cuda\" if (\n",
    "    use_cuda and torch.cuda.is_available()) else \"cpu\")"
   ]
  },
  {
   "attachments": {},
   "cell_type": "markdown",
   "metadata": {},
   "source": [
    "# Set options"
   ]
  },
  {
   "cell_type": "code",
   "execution_count": 3,
   "metadata": {},
   "outputs": [
    {
     "data": {
      "text/plain": [
       "<torch._C.Generator at 0x1497aab9090>"
      ]
     },
     "execution_count": 3,
     "metadata": {},
     "output_type": "execute_result"
    }
   ],
   "source": [
    "LOAD_DATASET = True\n",
    "TRAIN_PATH = './PTB_train.pt'\n",
    "VALID_PATH = './PTB_valid.pt'\n",
    "TEST_PATH = './PTB_test.pt'\n",
    "SAVE_NAME = 'MMRNN_epoch_30'\n",
    "SAVE_DIR = './model_saves/'\n",
    "BATCH_SIZE = 256\n",
    "\n",
    "EPOCH = 25\n",
    "\n",
    "torch.manual_seed(0)\n"
   ]
  },
  {
   "attachments": {},
   "cell_type": "markdown",
   "metadata": {},
   "source": [
    "# Load the dataset"
   ]
  },
  {
   "cell_type": "code",
   "execution_count": 4,
   "metadata": {},
   "outputs": [],
   "source": [
    "if LOAD_DATASET:\n",
    "    train_loader = torch.load(TRAIN_PATH)\n",
    "    valid_loader = torch.load(VALID_PATH)\n",
    "    test_loader = torch.load(TEST_PATH)\n",
    "else:\n",
    "    path = './data/ptb-xl-a-large-publicly-available-electrocardiography-dataset-1.0.3/'\n",
    "\n",
    "    data, raw_labels = load_dataset(path)\n",
    "\n",
    "    labels = compute_label_agg(raw_labels, path)\n",
    "\n",
    "    data, labels, y = select_data(data, labels)\n",
    "\n",
    "    train_loader, valid_loader, test_loader = get_data_loaders(\n",
    "        data, labels, y, BATCH_SIZE)\n",
    "\n",
    "    torch.save(train_loader, TRAIN_PATH)\n",
    "    torch.save(valid_loader, VALID_PATH)\n",
    "    torch.save(test_loader, TEST_PATH)\n"
   ]
  },
  {
   "attachments": {},
   "cell_type": "markdown",
   "metadata": {},
   "source": [
    "# Train the model"
   ]
  },
  {
   "cell_type": "code",
   "execution_count": 5,
   "metadata": {},
   "outputs": [
    {
     "data": {
      "application/vnd.jupyter.widget-view+json": {
       "model_id": "e30209000bf24423b1b0c44230918b7e",
       "version_major": 2,
       "version_minor": 0
      },
      "text/plain": [
       "  0%|          | 0/67 [00:00<?, ?it/s]"
      ]
     },
     "metadata": {},
     "output_type": "display_data"
    },
    {
     "name": "stdout",
     "output_type": "stream",
     "text": [
      "Epoch: [1/25], Step [4352/427100] | Train Loss:  0.849         | Train Accuracy:  0.467         | Val Loss:  0.494         | Val Accuracy:  0.582\n",
      "Model saved to ==> ./model_saves/model_MMRNN_epoch_30.pt\n",
      "Epoch: [1/25], Step [8704/427100] | Train Loss:  0.657         | Train Accuracy:  0.537         | Val Loss:  0.398         | Val Accuracy:  0.655\n",
      "Model saved to ==> ./model_saves/model_MMRNN_epoch_30.pt\n",
      "Epoch: [1/25], Step [13056/427100] | Train Loss:  0.567         | Train Accuracy:  0.594         | Val Loss:  0.375         | Val Accuracy:  0.708\n",
      "Model saved to ==> ./model_saves/model_MMRNN_epoch_30.pt\n",
      "Epoch: [1/25], Step [17084/427100] | Train Loss:  0.518         | Train Accuracy:  0.629         | Val Loss:  0.378         | Val Accuracy:  0.713\n"
     ]
    },
    {
     "data": {
      "application/vnd.jupyter.widget-view+json": {
       "model_id": "d6a5d434e1b84f7cb51e4e05679e1451",
       "version_major": 2,
       "version_minor": 0
      },
      "text/plain": [
       "  0%|          | 0/67 [00:00<?, ?it/s]"
      ]
     },
     "metadata": {},
     "output_type": "display_data"
    },
    {
     "name": "stdout",
     "output_type": "stream",
     "text": [
      "Epoch: [2/25], Step [21436/427100] | Train Loss:  0.318         | Train Accuracy:  0.786         | Val Loss:  0.353         | Val Accuracy:  0.722\n",
      "Model saved to ==> ./model_saves/model_MMRNN_epoch_30.pt\n",
      "Epoch: [2/25], Step [25788/427100] | Train Loss:  0.320         | Train Accuracy:  0.783         | Val Loss:  0.359         | Val Accuracy:  0.743\n",
      "Epoch: [2/25], Step [30140/427100] | Train Loss:  0.327         | Train Accuracy:  0.777         | Val Loss:  0.353         | Val Accuracy:  0.738\n",
      "Model saved to ==> ./model_saves/model_MMRNN_epoch_30.pt\n",
      "Epoch: [2/25], Step [34168/427100] | Train Loss:  0.331         | Train Accuracy:  0.778         | Val Loss:  0.407         | Val Accuracy:  0.714\n"
     ]
    },
    {
     "data": {
      "application/vnd.jupyter.widget-view+json": {
       "model_id": "2ef94b1e11964e549dfe8efd7a5fc559",
       "version_major": 2,
       "version_minor": 0
      },
      "text/plain": [
       "  0%|          | 0/67 [00:00<?, ?it/s]"
      ]
     },
     "metadata": {},
     "output_type": "display_data"
    },
    {
     "name": "stdout",
     "output_type": "stream",
     "text": [
      "Epoch: [3/25], Step [38520/427100] | Train Loss:  0.325         | Train Accuracy:  0.783         | Val Loss:  0.353         | Val Accuracy:  0.747\n",
      "Epoch: [3/25], Step [42872/427100] | Train Loss:  0.311         | Train Accuracy:  0.801         | Val Loss:  0.316         | Val Accuracy:  0.788\n",
      "Model saved to ==> ./model_saves/model_MMRNN_epoch_30.pt\n",
      "Epoch: [3/25], Step [47224/427100] | Train Loss:  0.309         | Train Accuracy:  0.803         | Val Loss:  0.320         | Val Accuracy:  0.769\n",
      "Epoch: [3/25], Step [51252/427100] | Train Loss:  0.308         | Train Accuracy:  0.807         | Val Loss:  0.320         | Val Accuracy:  0.770\n"
     ]
    },
    {
     "data": {
      "application/vnd.jupyter.widget-view+json": {
       "model_id": "40a5abe1399b4bd2ae74257f8f59240a",
       "version_major": 2,
       "version_minor": 0
      },
      "text/plain": [
       "  0%|          | 0/67 [00:00<?, ?it/s]"
      ]
     },
     "metadata": {},
     "output_type": "display_data"
    },
    {
     "name": "stdout",
     "output_type": "stream",
     "text": [
      "Epoch: [4/25], Step [55604/427100] | Train Loss:  0.258         | Train Accuracy:  0.834         | Val Loss:  0.316         | Val Accuracy:  0.773\n",
      "Model saved to ==> ./model_saves/model_MMRNN_epoch_30.pt\n",
      "Epoch: [4/25], Step [59956/427100] | Train Loss:  0.272         | Train Accuracy:  0.826         | Val Loss:  0.309         | Val Accuracy:  0.790\n",
      "Model saved to ==> ./model_saves/model_MMRNN_epoch_30.pt\n",
      "Epoch: [4/25], Step [64308/427100] | Train Loss:  0.278         | Train Accuracy:  0.825         | Val Loss:  0.342         | Val Accuracy:  0.781\n",
      "Epoch: [4/25], Step [68336/427100] | Train Loss:  0.282         | Train Accuracy:  0.827         | Val Loss:  0.359         | Val Accuracy:  0.763\n"
     ]
    },
    {
     "data": {
      "application/vnd.jupyter.widget-view+json": {
       "model_id": "fc8116faa2c8421da679752a931ae2ab",
       "version_major": 2,
       "version_minor": 0
      },
      "text/plain": [
       "  0%|          | 0/67 [00:00<?, ?it/s]"
      ]
     },
     "metadata": {},
     "output_type": "display_data"
    },
    {
     "name": "stdout",
     "output_type": "stream",
     "text": [
      "Epoch: [5/25], Step [72688/427100] | Train Loss:  0.285         | Train Accuracy:  0.821         | Val Loss:  0.323         | Val Accuracy:  0.766\n",
      "Epoch: [5/25], Step [77040/427100] | Train Loss:  0.282         | Train Accuracy:  0.824         | Val Loss:  0.291         | Val Accuracy:  0.805\n",
      "Model saved to ==> ./model_saves/model_MMRNN_epoch_30.pt\n",
      "Epoch: [5/25], Step [81392/427100] | Train Loss:  0.279         | Train Accuracy:  0.828         | Val Loss:  0.312         | Val Accuracy:  0.795\n",
      "Epoch: [5/25], Step [85420/427100] | Train Loss:  0.281         | Train Accuracy:  0.831         | Val Loss:  0.296         | Val Accuracy:  0.794\n"
     ]
    },
    {
     "data": {
      "application/vnd.jupyter.widget-view+json": {
       "model_id": "e1d6e8fa003e48cfad478d3262089736",
       "version_major": 2,
       "version_minor": 0
      },
      "text/plain": [
       "  0%|          | 0/67 [00:00<?, ?it/s]"
      ]
     },
     "metadata": {},
     "output_type": "display_data"
    },
    {
     "name": "stdout",
     "output_type": "stream",
     "text": [
      "Epoch: [6/25], Step [89772/427100] | Train Loss:  0.241         | Train Accuracy:  0.851         | Val Loss:  0.296         | Val Accuracy:  0.804\n",
      "Epoch: [6/25], Step [94124/427100] | Train Loss:  0.251         | Train Accuracy:  0.850         | Val Loss:  0.287         | Val Accuracy:  0.808\n",
      "Model saved to ==> ./model_saves/model_MMRNN_epoch_30.pt\n",
      "Epoch: [6/25], Step [98476/427100] | Train Loss:  0.254         | Train Accuracy:  0.851         | Val Loss:  0.295         | Val Accuracy:  0.808\n",
      "Epoch: [6/25], Step [102504/427100] | Train Loss:  0.258         | Train Accuracy:  0.851         | Val Loss:  0.293         | Val Accuracy:  0.803\n"
     ]
    },
    {
     "data": {
      "application/vnd.jupyter.widget-view+json": {
       "model_id": "3d1f11a743bb4b4baf1eff090775f361",
       "version_major": 2,
       "version_minor": 0
      },
      "text/plain": [
       "  0%|          | 0/67 [00:00<?, ?it/s]"
      ]
     },
     "metadata": {},
     "output_type": "display_data"
    },
    {
     "name": "stdout",
     "output_type": "stream",
     "text": [
      "Epoch: [7/25], Step [106856/427100] | Train Loss:  0.237         | Train Accuracy:  0.858         | Val Loss:  0.295         | Val Accuracy:  0.801\n",
      "Epoch: [7/25], Step [111208/427100] | Train Loss:  0.247         | Train Accuracy:  0.851         | Val Loss:  0.285         | Val Accuracy:  0.815\n",
      "Model saved to ==> ./model_saves/model_MMRNN_epoch_30.pt\n",
      "Epoch: [7/25], Step [115560/427100] | Train Loss:  0.251         | Train Accuracy:  0.852         | Val Loss:  0.298         | Val Accuracy:  0.811\n",
      "Epoch: [7/25], Step [119588/427100] | Train Loss:  0.256         | Train Accuracy:  0.853         | Val Loss:  0.287         | Val Accuracy:  0.810\n"
     ]
    },
    {
     "data": {
      "application/vnd.jupyter.widget-view+json": {
       "model_id": "ed09661c107d48bb9718f1f3c8bf564d",
       "version_major": 2,
       "version_minor": 0
      },
      "text/plain": [
       "  0%|          | 0/67 [00:00<?, ?it/s]"
      ]
     },
     "metadata": {},
     "output_type": "display_data"
    },
    {
     "name": "stdout",
     "output_type": "stream",
     "text": [
      "Epoch: [8/25], Step [123940/427100] | Train Loss:  0.231         | Train Accuracy:  0.864         | Val Loss:  0.292         | Val Accuracy:  0.810\n",
      "Epoch: [8/25], Step [128292/427100] | Train Loss:  0.244         | Train Accuracy:  0.856         | Val Loss:  0.286         | Val Accuracy:  0.814\n",
      "Epoch: [8/25], Step [132644/427100] | Train Loss:  0.249         | Train Accuracy:  0.854         | Val Loss:  0.298         | Val Accuracy:  0.812\n",
      "Epoch: [8/25], Step [136672/427100] | Train Loss:  0.253         | Train Accuracy:  0.854         | Val Loss:  0.299         | Val Accuracy:  0.801\n"
     ]
    },
    {
     "data": {
      "application/vnd.jupyter.widget-view+json": {
       "model_id": "c28ec7996ca94ae2a0305113308e8a4c",
       "version_major": 2,
       "version_minor": 0
      },
      "text/plain": [
       "  0%|          | 0/67 [00:00<?, ?it/s]"
      ]
     },
     "metadata": {},
     "output_type": "display_data"
    },
    {
     "name": "stdout",
     "output_type": "stream",
     "text": [
      "Epoch: [9/25], Step [141024/427100] | Train Loss:  0.233         | Train Accuracy:  0.865         | Val Loss:  0.286         | Val Accuracy:  0.819\n",
      "Epoch: [9/25], Step [145376/427100] | Train Loss:  0.245         | Train Accuracy:  0.856         | Val Loss:  0.292         | Val Accuracy:  0.812\n",
      "Epoch: [9/25], Step [149728/427100] | Train Loss:  0.250         | Train Accuracy:  0.855         | Val Loss:  0.300         | Val Accuracy:  0.811\n",
      "Epoch: [9/25], Step [153756/427100] | Train Loss:  0.254         | Train Accuracy:  0.854         | Val Loss:  0.309         | Val Accuracy:  0.794\n"
     ]
    },
    {
     "data": {
      "application/vnd.jupyter.widget-view+json": {
       "model_id": "d0efe36cce2f463781c4e5991073279b",
       "version_major": 2,
       "version_minor": 0
      },
      "text/plain": [
       "  0%|          | 0/67 [00:00<?, ?it/s]"
      ]
     },
     "metadata": {},
     "output_type": "display_data"
    },
    {
     "name": "stdout",
     "output_type": "stream",
     "text": [
      "Epoch: [10/25], Step [158108/427100] | Train Loss:  0.236         | Train Accuracy:  0.861         | Val Loss:  0.298         | Val Accuracy:  0.802\n",
      "Epoch: [10/25], Step [162460/427100] | Train Loss:  0.246         | Train Accuracy:  0.853         | Val Loss:  0.288         | Val Accuracy:  0.824\n",
      "Epoch: [10/25], Step [166812/427100] | Train Loss:  0.250         | Train Accuracy:  0.853         | Val Loss:  0.313         | Val Accuracy:  0.816\n",
      "Epoch: [10/25], Step [170840/427100] | Train Loss:  0.254         | Train Accuracy:  0.854         | Val Loss:  0.281         | Val Accuracy:  0.816\n",
      "Model saved to ==> ./model_saves/model_MMRNN_epoch_30.pt\n"
     ]
    },
    {
     "data": {
      "application/vnd.jupyter.widget-view+json": {
       "model_id": "09a561252f56445ba63f8a86fa7bc562",
       "version_major": 2,
       "version_minor": 0
      },
      "text/plain": [
       "  0%|          | 0/67 [00:00<?, ?it/s]"
      ]
     },
     "metadata": {},
     "output_type": "display_data"
    },
    {
     "name": "stdout",
     "output_type": "stream",
     "text": [
      "Epoch: [11/25], Step [175192/427100] | Train Loss:  0.221         | Train Accuracy:  0.870         | Val Loss:  0.283         | Val Accuracy:  0.822\n",
      "Epoch: [11/25], Step [179544/427100] | Train Loss:  0.232         | Train Accuracy:  0.866         | Val Loss:  0.279         | Val Accuracy:  0.822\n",
      "Model saved to ==> ./model_saves/model_MMRNN_epoch_30.pt\n",
      "Epoch: [11/25], Step [183896/427100] | Train Loss:  0.236         | Train Accuracy:  0.863         | Val Loss:  0.279         | Val Accuracy:  0.826\n",
      "Model saved to ==> ./model_saves/model_MMRNN_epoch_30.pt\n",
      "Epoch: [11/25], Step [187924/427100] | Train Loss:  0.240         | Train Accuracy:  0.863         | Val Loss:  0.290         | Val Accuracy:  0.815\n"
     ]
    },
    {
     "data": {
      "application/vnd.jupyter.widget-view+json": {
       "model_id": "5f11cff4579e462c83891f3f0802b082",
       "version_major": 2,
       "version_minor": 0
      },
      "text/plain": [
       "  0%|          | 0/67 [00:00<?, ?it/s]"
      ]
     },
     "metadata": {},
     "output_type": "display_data"
    },
    {
     "name": "stdout",
     "output_type": "stream",
     "text": [
      "Epoch: [12/25], Step [192276/427100] | Train Loss:  0.223         | Train Accuracy:  0.868         | Val Loss:  0.272         | Val Accuracy:  0.835\n",
      "Model saved to ==> ./model_saves/model_MMRNN_epoch_30.pt\n",
      "Epoch: [12/25], Step [196628/427100] | Train Loss:  0.230         | Train Accuracy:  0.864         | Val Loss:  0.279         | Val Accuracy:  0.825\n",
      "Epoch: [12/25], Step [200980/427100] | Train Loss:  0.234         | Train Accuracy:  0.861         | Val Loss:  0.283         | Val Accuracy:  0.820\n",
      "Epoch: [12/25], Step [205008/427100] | Train Loss:  0.239         | Train Accuracy:  0.861         | Val Loss:  0.291         | Val Accuracy:  0.819\n"
     ]
    },
    {
     "data": {
      "application/vnd.jupyter.widget-view+json": {
       "model_id": "9dde867ff3b3448fa2cb4c4e5114ee9b",
       "version_major": 2,
       "version_minor": 0
      },
      "text/plain": [
       "  0%|          | 0/67 [00:00<?, ?it/s]"
      ]
     },
     "metadata": {},
     "output_type": "display_data"
    },
    {
     "name": "stdout",
     "output_type": "stream",
     "text": [
      "Epoch: [13/25], Step [209360/427100] | Train Loss:  0.222         | Train Accuracy:  0.870         | Val Loss:  0.275         | Val Accuracy:  0.827\n",
      "Epoch: [13/25], Step [213712/427100] | Train Loss:  0.232         | Train Accuracy:  0.864         | Val Loss:  0.282         | Val Accuracy:  0.824\n",
      "Epoch: [13/25], Step [218064/427100] | Train Loss:  0.237         | Train Accuracy:  0.862         | Val Loss:  0.296         | Val Accuracy:  0.812\n",
      "Epoch: [13/25], Step [222092/427100] | Train Loss:  0.242         | Train Accuracy:  0.861         | Val Loss:  0.284         | Val Accuracy:  0.818\n"
     ]
    },
    {
     "data": {
      "application/vnd.jupyter.widget-view+json": {
       "model_id": "0755ba7ee1a9413f859d9cd1660843d7",
       "version_major": 2,
       "version_minor": 0
      },
      "text/plain": [
       "  0%|          | 0/67 [00:00<?, ?it/s]"
      ]
     },
     "metadata": {},
     "output_type": "display_data"
    },
    {
     "name": "stdout",
     "output_type": "stream",
     "text": [
      "Epoch: [14/25], Step [226444/427100] | Train Loss:  0.218         | Train Accuracy:  0.872         | Val Loss:  0.290         | Val Accuracy:  0.815\n",
      "Epoch: [14/25], Step [230796/427100] | Train Loss:  0.232         | Train Accuracy:  0.863         | Val Loss:  0.277         | Val Accuracy:  0.825\n",
      "Epoch: [14/25], Step [235148/427100] | Train Loss:  0.237         | Train Accuracy:  0.863         | Val Loss:  0.286         | Val Accuracy:  0.822\n",
      "Epoch: [14/25], Step [239176/427100] | Train Loss:  0.241         | Train Accuracy:  0.863         | Val Loss:  0.272         | Val Accuracy:  0.836\n"
     ]
    },
    {
     "data": {
      "application/vnd.jupyter.widget-view+json": {
       "model_id": "a0db9ba1817e4ce08d73352bd3a680e6",
       "version_major": 2,
       "version_minor": 0
      },
      "text/plain": [
       "  0%|          | 0/67 [00:00<?, ?it/s]"
      ]
     },
     "metadata": {},
     "output_type": "display_data"
    },
    {
     "name": "stdout",
     "output_type": "stream",
     "text": [
      "Epoch: [15/25], Step [243528/427100] | Train Loss:  0.212         | Train Accuracy:  0.877         | Val Loss:  0.273         | Val Accuracy:  0.829\n",
      "Epoch: [15/25], Step [247880/427100] | Train Loss:  0.222         | Train Accuracy:  0.871         | Val Loss:  0.270         | Val Accuracy:  0.827\n",
      "Model saved to ==> ./model_saves/model_MMRNN_epoch_30.pt\n",
      "Epoch: [15/25], Step [252232/427100] | Train Loss:  0.227         | Train Accuracy:  0.870         | Val Loss:  0.283         | Val Accuracy:  0.827\n",
      "Epoch: [15/25], Step [256260/427100] | Train Loss:  0.232         | Train Accuracy:  0.868         | Val Loss:  0.274         | Val Accuracy:  0.829\n"
     ]
    },
    {
     "data": {
      "application/vnd.jupyter.widget-view+json": {
       "model_id": "feb7f966091c49f2bca00dcfb24ca27e",
       "version_major": 2,
       "version_minor": 0
      },
      "text/plain": [
       "  0%|          | 0/67 [00:00<?, ?it/s]"
      ]
     },
     "metadata": {},
     "output_type": "display_data"
    },
    {
     "name": "stdout",
     "output_type": "stream",
     "text": [
      "Epoch: [16/25], Step [260612/427100] | Train Loss:  0.214         | Train Accuracy:  0.877         | Val Loss:  0.274         | Val Accuracy:  0.830\n",
      "Epoch: [16/25], Step [264964/427100] | Train Loss:  0.224         | Train Accuracy:  0.873         | Val Loss:  0.269         | Val Accuracy:  0.831\n",
      "Model saved to ==> ./model_saves/model_MMRNN_epoch_30.pt\n",
      "Epoch: [16/25], Step [269316/427100] | Train Loss:  0.227         | Train Accuracy:  0.872         | Val Loss:  0.282         | Val Accuracy:  0.823\n",
      "Epoch: [16/25], Step [273344/427100] | Train Loss:  0.232         | Train Accuracy:  0.870         | Val Loss:  0.266         | Val Accuracy:  0.829\n",
      "Model saved to ==> ./model_saves/model_MMRNN_epoch_30.pt\n"
     ]
    },
    {
     "data": {
      "application/vnd.jupyter.widget-view+json": {
       "model_id": "8fccc39cbf114f088d0eaf7d62266fce",
       "version_major": 2,
       "version_minor": 0
      },
      "text/plain": [
       "  0%|          | 0/67 [00:00<?, ?it/s]"
      ]
     },
     "metadata": {},
     "output_type": "display_data"
    },
    {
     "name": "stdout",
     "output_type": "stream",
     "text": [
      "Epoch: [17/25], Step [277696/427100] | Train Loss:  0.209         | Train Accuracy:  0.877         | Val Loss:  0.272         | Val Accuracy:  0.832\n",
      "Epoch: [17/25], Step [282048/427100] | Train Loss:  0.220         | Train Accuracy:  0.873         | Val Loss:  0.269         | Val Accuracy:  0.832\n",
      "Epoch: [17/25], Step [286400/427100] | Train Loss:  0.224         | Train Accuracy:  0.873         | Val Loss:  0.283         | Val Accuracy:  0.825\n",
      "Epoch: [17/25], Step [290428/427100] | Train Loss:  0.230         | Train Accuracy:  0.871         | Val Loss:  0.272         | Val Accuracy:  0.829\n"
     ]
    },
    {
     "data": {
      "application/vnd.jupyter.widget-view+json": {
       "model_id": "bc96f05ee8a040e2822f46ccee609eac",
       "version_major": 2,
       "version_minor": 0
      },
      "text/plain": [
       "  0%|          | 0/67 [00:00<?, ?it/s]"
      ]
     },
     "metadata": {},
     "output_type": "display_data"
    },
    {
     "name": "stdout",
     "output_type": "stream",
     "text": [
      "Epoch: [18/25], Step [294780/427100] | Train Loss:  0.209         | Train Accuracy:  0.879         | Val Loss:  0.273         | Val Accuracy:  0.831\n",
      "Epoch: [18/25], Step [299132/427100] | Train Loss:  0.220         | Train Accuracy:  0.872         | Val Loss:  0.272         | Val Accuracy:  0.832\n",
      "Epoch: [18/25], Step [303484/427100] | Train Loss:  0.224         | Train Accuracy:  0.872         | Val Loss:  0.286         | Val Accuracy:  0.823\n",
      "Epoch: [18/25], Step [307512/427100] | Train Loss:  0.230         | Train Accuracy:  0.870         | Val Loss:  0.274         | Val Accuracy:  0.827\n"
     ]
    },
    {
     "data": {
      "application/vnd.jupyter.widget-view+json": {
       "model_id": "61918037d50a4ab7a60ee95c159d2e72",
       "version_major": 2,
       "version_minor": 0
      },
      "text/plain": [
       "  0%|          | 0/67 [00:00<?, ?it/s]"
      ]
     },
     "metadata": {},
     "output_type": "display_data"
    },
    {
     "name": "stdout",
     "output_type": "stream",
     "text": [
      "Epoch: [19/25], Step [311864/427100] | Train Loss:  0.210         | Train Accuracy:  0.879         | Val Loss:  0.273         | Val Accuracy:  0.833\n",
      "Epoch: [19/25], Step [316216/427100] | Train Loss:  0.221         | Train Accuracy:  0.875         | Val Loss:  0.273         | Val Accuracy:  0.831\n",
      "Epoch: [19/25], Step [320568/427100] | Train Loss:  0.225         | Train Accuracy:  0.874         | Val Loss:  0.288         | Val Accuracy:  0.816\n",
      "Epoch: [19/25], Step [324596/427100] | Train Loss:  0.231         | Train Accuracy:  0.871         | Val Loss:  0.276         | Val Accuracy:  0.826\n"
     ]
    },
    {
     "data": {
      "application/vnd.jupyter.widget-view+json": {
       "model_id": "142d10a051ee4c28ad4e69e266a1370d",
       "version_major": 2,
       "version_minor": 0
      },
      "text/plain": [
       "  0%|          | 0/67 [00:00<?, ?it/s]"
      ]
     },
     "metadata": {},
     "output_type": "display_data"
    },
    {
     "name": "stdout",
     "output_type": "stream",
     "text": [
      "Epoch: [20/25], Step [328948/427100] | Train Loss:  0.210         | Train Accuracy:  0.878         | Val Loss:  0.279         | Val Accuracy:  0.826\n",
      "Epoch: [20/25], Step [333300/427100] | Train Loss:  0.222         | Train Accuracy:  0.873         | Val Loss:  0.273         | Val Accuracy:  0.830\n",
      "Epoch: [20/25], Step [337652/427100] | Train Loss:  0.226         | Train Accuracy:  0.872         | Val Loss:  0.290         | Val Accuracy:  0.816\n",
      "Epoch: [20/25], Step [341680/427100] | Train Loss:  0.232         | Train Accuracy:  0.869         | Val Loss:  0.277         | Val Accuracy:  0.825\n"
     ]
    },
    {
     "data": {
      "application/vnd.jupyter.widget-view+json": {
       "model_id": "45fb1382ea284b1c89cf45d8fe28d934",
       "version_major": 2,
       "version_minor": 0
      },
      "text/plain": [
       "  0%|          | 0/67 [00:00<?, ?it/s]"
      ]
     },
     "metadata": {},
     "output_type": "display_data"
    },
    {
     "name": "stdout",
     "output_type": "stream",
     "text": [
      "Epoch: [21/25], Step [346032/427100] | Train Loss:  0.212         | Train Accuracy:  0.878         | Val Loss:  0.273         | Val Accuracy:  0.830\n",
      "Epoch: [21/25], Step [350384/427100] | Train Loss:  0.220         | Train Accuracy:  0.875         | Val Loss:  0.278         | Val Accuracy:  0.827\n",
      "Epoch: [21/25], Step [354736/427100] | Train Loss:  0.225         | Train Accuracy:  0.873         | Val Loss:  0.282         | Val Accuracy:  0.823\n",
      "Epoch: [21/25], Step [358764/427100] | Train Loss:  0.231         | Train Accuracy:  0.871         | Val Loss:  0.317         | Val Accuracy:  0.811\n"
     ]
    },
    {
     "data": {
      "application/vnd.jupyter.widget-view+json": {
       "model_id": "a955508d7a3f468cbbf2fc7445ef2aa0",
       "version_major": 2,
       "version_minor": 0
      },
      "text/plain": [
       "  0%|          | 0/67 [00:00<?, ?it/s]"
      ]
     },
     "metadata": {},
     "output_type": "display_data"
    },
    {
     "name": "stdout",
     "output_type": "stream",
     "text": [
      "Epoch: [22/25], Step [363116/427100] | Train Loss:  0.229         | Train Accuracy:  0.872         | Val Loss:  0.275         | Val Accuracy:  0.834\n",
      "Epoch: [22/25], Step [367468/427100] | Train Loss:  0.234         | Train Accuracy:  0.868         | Val Loss:  0.277         | Val Accuracy:  0.829\n",
      "Epoch: [22/25], Step [371820/427100] | Train Loss:  0.237         | Train Accuracy:  0.868         | Val Loss:  0.290         | Val Accuracy:  0.827\n",
      "Epoch: [22/25], Step [375848/427100] | Train Loss:  0.240         | Train Accuracy:  0.868         | Val Loss:  0.281         | Val Accuracy:  0.830\n"
     ]
    },
    {
     "data": {
      "application/vnd.jupyter.widget-view+json": {
       "model_id": "c7d58b74c00247a88f3178fd8aa7d5b9",
       "version_major": 2,
       "version_minor": 0
      },
      "text/plain": [
       "  0%|          | 0/67 [00:00<?, ?it/s]"
      ]
     },
     "metadata": {},
     "output_type": "display_data"
    },
    {
     "name": "stdout",
     "output_type": "stream",
     "text": [
      "Epoch: [23/25], Step [380200/427100] | Train Loss:  0.213         | Train Accuracy:  0.880         | Val Loss:  0.278         | Val Accuracy:  0.824\n",
      "Epoch: [23/25], Step [384552/427100] | Train Loss:  0.222         | Train Accuracy:  0.874         | Val Loss:  0.269         | Val Accuracy:  0.834\n",
      "Epoch: [23/25], Step [388904/427100] | Train Loss:  0.225         | Train Accuracy:  0.873         | Val Loss:  0.287         | Val Accuracy:  0.824\n",
      "Epoch: [23/25], Step [392932/427100] | Train Loss:  0.229         | Train Accuracy:  0.872         | Val Loss:  0.266         | Val Accuracy:  0.830\n",
      "Model saved to ==> ./model_saves/model_MMRNN_epoch_30.pt\n"
     ]
    },
    {
     "data": {
      "application/vnd.jupyter.widget-view+json": {
       "model_id": "97dc613a2e8e4340b2021896aeffcc12",
       "version_major": 2,
       "version_minor": 0
      },
      "text/plain": [
       "  0%|          | 0/67 [00:00<?, ?it/s]"
      ]
     },
     "metadata": {},
     "output_type": "display_data"
    },
    {
     "name": "stdout",
     "output_type": "stream",
     "text": [
      "Epoch: [24/25], Step [397284/427100] | Train Loss:  0.204         | Train Accuracy:  0.884         | Val Loss:  0.273         | Val Accuracy:  0.827\n",
      "Epoch: [24/25], Step [401636/427100] | Train Loss:  0.216         | Train Accuracy:  0.879         | Val Loss:  0.267         | Val Accuracy:  0.838\n",
      "Epoch: [24/25], Step [405988/427100] | Train Loss:  0.221         | Train Accuracy:  0.875         | Val Loss:  0.288         | Val Accuracy:  0.825\n",
      "Epoch: [24/25], Step [410016/427100] | Train Loss:  0.226         | Train Accuracy:  0.874         | Val Loss:  0.270         | Val Accuracy:  0.834\n"
     ]
    },
    {
     "data": {
      "application/vnd.jupyter.widget-view+json": {
       "model_id": "2722cb24c640447d89918fd1f7d59925",
       "version_major": 2,
       "version_minor": 0
      },
      "text/plain": [
       "  0%|          | 0/67 [00:00<?, ?it/s]"
      ]
     },
     "metadata": {},
     "output_type": "display_data"
    },
    {
     "name": "stdout",
     "output_type": "stream",
     "text": [
      "Epoch: [25/25], Step [414368/427100] | Train Loss:  0.204         | Train Accuracy:  0.883         | Val Loss:  0.273         | Val Accuracy:  0.833\n",
      "Epoch: [25/25], Step [418720/427100] | Train Loss:  0.216         | Train Accuracy:  0.877         | Val Loss:  0.270         | Val Accuracy:  0.838\n",
      "Epoch: [25/25], Step [423072/427100] | Train Loss:  0.221         | Train Accuracy:  0.875         | Val Loss:  0.282         | Val Accuracy:  0.826\n",
      "Epoch: [25/25], Step [427100/427100] | Train Loss:  0.226         | Train Accuracy:  0.874         | Val Loss:  0.268         | Val Accuracy:  0.829\n",
      "Training complete.\n"
     ]
    }
   ],
   "source": [
    "\n",
    "model = MMRNN().to(device)\n",
    "optimizer = optim.Adam(model.parameters(), lr=1e-2)\n",
    "criterion = nn.BCEWithLogitsLoss()\n",
    "\n",
    "model = train_RNN(EPOCH, train_loader, valid_loader, model,\n",
    "                  criterion, optimizer, device=device, save_dir=SAVE_DIR, model_save_name=SAVE_NAME)"
   ]
  },
  {
   "attachments": {},
   "cell_type": "markdown",
   "metadata": {},
   "source": [
    "# Evaluate and plot losses"
   ]
  },
  {
   "cell_type": "code",
   "execution_count": 6,
   "metadata": {},
   "outputs": [
    {
     "name": "stdout",
     "output_type": "stream",
     "text": [
      "Test Accuracy:  0.835\n"
     ]
    },
    {
     "data": {
      "image/png": "[encoded data removed]",
      "text/plain": [
       "<Figure size 640x480 with 1 Axes>"
      ]
     },
     "metadata": {},
     "output_type": "display_data"
    }
   ],
   "source": [
    "test_accuracy = evaluate_RNN(model, test_loader)\n",
    "plot_losses(metrics_save_name=SAVE_NAME, save_dir=SAVE_DIR)\n",
    "rename_with_acc(SAVE_NAME, SAVE_DIR, test_accuracy)\n"
   ]
  }
 ],
 "metadata": {
  "kernelspec": {
   "display_name": "Python 3",
   "language": "python",
   "name": "python3"
  },
  "language_info": {
   "codemirror_mode": {
    "name": "ipython",
    "version": 3
   },
   "file_extension": ".py",
   "mimetype": "text/x-python",
   "name": "python",
   "nbconvert_exporter": "python",
   "pygments_lexer": "ipython3",
   "version": "3.10.5"
  },
  "orig_nbformat": 4
 },
 "nbformat": 4,
 "nbformat_minor": 2
}
